{
 "nbformat": 4,
 "nbformat_minor": 0,
 "metadata": {
  "colab": {
   "provenance": []
  },
  "kernelspec": {
   "name": "python3",
   "display_name": "Python 3 (ipykernel)",
   "language": "python"
  },
  "language_info": {
   "name": "python"
  },
  "widgets": {
   "application/vnd.jupyter.widget-state+json": {
    "19889302f879489ab38033228da16001": {
     "model_module": "@jupyter-widgets/controls",
     "model_name": "HBoxModel",
     "model_module_version": "1.5.0",
     "state": {
      "_dom_classes": [],
      "_model_module": "@jupyter-widgets/controls",
      "_model_module_version": "1.5.0",
      "_model_name": "HBoxModel",
      "_view_count": null,
      "_view_module": "@jupyter-widgets/controls",
      "_view_module_version": "1.5.0",
      "_view_name": "HBoxView",
      "box_style": "",
      "children": [
       "IPY_MODEL_24af2c1df7cd46cab2aa20cc0b097e0e",
       "IPY_MODEL_2843d3bb2b8143a0ad0ce79c8a8079e8",
       "IPY_MODEL_c62acd9b76854977a1f69083519d2e10"
      ],
      "layout": "IPY_MODEL_e3a98af4517640d3bc9fb3704c53a550"
     }
    },
    "24af2c1df7cd46cab2aa20cc0b097e0e": {
     "model_module": "@jupyter-widgets/controls",
     "model_name": "HTMLModel",
     "model_module_version": "1.5.0",
     "state": {
      "_dom_classes": [],
      "_model_module": "@jupyter-widgets/controls",
      "_model_module_version": "1.5.0",
      "_model_name": "HTMLModel",
      "_view_count": null,
      "_view_module": "@jupyter-widgets/controls",
      "_view_module_version": "1.5.0",
      "_view_name": "HTMLView",
      "description": "",
      "description_tooltip": null,
      "layout": "IPY_MODEL_d6a4905b3cfc4b4195940f487a6223a4",
      "placeholder": "​",
      "style": "IPY_MODEL_e187b2fd709b4d6f833fbd9a24560adf",
      "value": "Best trial: 0. Best value: 0.0642072: 100%"
     }
    },
    "2843d3bb2b8143a0ad0ce79c8a8079e8": {
     "model_module": "@jupyter-widgets/controls",
     "model_name": "FloatProgressModel",
     "model_module_version": "1.5.0",
     "state": {
      "_dom_classes": [],
      "_model_module": "@jupyter-widgets/controls",
      "_model_module_version": "1.5.0",
      "_model_name": "FloatProgressModel",
      "_view_count": null,
      "_view_module": "@jupyter-widgets/controls",
      "_view_module_version": "1.5.0",
      "_view_name": "ProgressView",
      "bar_style": "success",
      "description": "",
      "description_tooltip": null,
      "layout": "IPY_MODEL_874a0a491dd34d1e9347c54af1d75024",
      "max": 10,
      "min": 0,
      "orientation": "horizontal",
      "style": "IPY_MODEL_185f33111ab34563a8516a44b99c1c0b",
      "value": 10
     }
    },
    "c62acd9b76854977a1f69083519d2e10": {
     "model_module": "@jupyter-widgets/controls",
     "model_name": "HTMLModel",
     "model_module_version": "1.5.0",
     "state": {
      "_dom_classes": [],
      "_model_module": "@jupyter-widgets/controls",
      "_model_module_version": "1.5.0",
      "_model_name": "HTMLModel",
      "_view_count": null,
      "_view_module": "@jupyter-widgets/controls",
      "_view_module_version": "1.5.0",
      "_view_name": "HTMLView",
      "description": "",
      "description_tooltip": null,
      "layout": "IPY_MODEL_88eab0d5277d4715ad86f9fef4d0b0db",
      "placeholder": "​",
      "style": "IPY_MODEL_565982672d614575bc5fc5a2064ace7b",
      "value": " 10/10 [07:17&lt;00:00, 41.82s/it]"
     }
    },
    "e3a98af4517640d3bc9fb3704c53a550": {
     "model_module": "@jupyter-widgets/base",
     "model_name": "LayoutModel",
     "model_module_version": "1.2.0",
     "state": {
      "_model_module": "@jupyter-widgets/base",
      "_model_module_version": "1.2.0",
      "_model_name": "LayoutModel",
      "_view_count": null,
      "_view_module": "@jupyter-widgets/base",
      "_view_module_version": "1.2.0",
      "_view_name": "LayoutView",
      "align_content": null,
      "align_items": null,
      "align_self": null,
      "border": null,
      "bottom": null,
      "display": null,
      "flex": null,
      "flex_flow": null,
      "grid_area": null,
      "grid_auto_columns": null,
      "grid_auto_flow": null,
      "grid_auto_rows": null,
      "grid_column": null,
      "grid_gap": null,
      "grid_row": null,
      "grid_template_areas": null,
      "grid_template_columns": null,
      "grid_template_rows": null,
      "height": null,
      "justify_content": null,
      "justify_items": null,
      "left": null,
      "margin": null,
      "max_height": null,
      "max_width": null,
      "min_height": null,
      "min_width": null,
      "object_fit": null,
      "object_position": null,
      "order": null,
      "overflow": null,
      "overflow_x": null,
      "overflow_y": null,
      "padding": null,
      "right": null,
      "top": null,
      "visibility": null,
      "width": null
     }
    },
    "d6a4905b3cfc4b4195940f487a6223a4": {
     "model_module": "@jupyter-widgets/base",
     "model_name": "LayoutModel",
     "model_module_version": "1.2.0",
     "state": {
      "_model_module": "@jupyter-widgets/base",
      "_model_module_version": "1.2.0",
      "_model_name": "LayoutModel",
      "_view_count": null,
      "_view_module": "@jupyter-widgets/base",
      "_view_module_version": "1.2.0",
      "_view_name": "LayoutView",
      "align_content": null,
      "align_items": null,
      "align_self": null,
      "border": null,
      "bottom": null,
      "display": null,
      "flex": null,
      "flex_flow": null,
      "grid_area": null,
      "grid_auto_columns": null,
      "grid_auto_flow": null,
      "grid_auto_rows": null,
      "grid_column": null,
      "grid_gap": null,
      "grid_row": null,
      "grid_template_areas": null,
      "grid_template_columns": null,
      "grid_template_rows": null,
      "height": null,
      "justify_content": null,
      "justify_items": null,
      "left": null,
      "margin": null,
      "max_height": null,
      "max_width": null,
      "min_height": null,
      "min_width": null,
      "object_fit": null,
      "object_position": null,
      "order": null,
      "overflow": null,
      "overflow_x": null,
      "overflow_y": null,
      "padding": null,
      "right": null,
      "top": null,
      "visibility": null,
      "width": null
     }
    },
    "e187b2fd709b4d6f833fbd9a24560adf": {
     "model_module": "@jupyter-widgets/controls",
     "model_name": "DescriptionStyleModel",
     "model_module_version": "1.5.0",
     "state": {
      "_model_module": "@jupyter-widgets/controls",
      "_model_module_version": "1.5.0",
      "_model_name": "DescriptionStyleModel",
      "_view_count": null,
      "_view_module": "@jupyter-widgets/base",
      "_view_module_version": "1.2.0",
      "_view_name": "StyleView",
      "description_width": ""
     }
    },
    "874a0a491dd34d1e9347c54af1d75024": {
     "model_module": "@jupyter-widgets/base",
     "model_name": "LayoutModel",
     "model_module_version": "1.2.0",
     "state": {
      "_model_module": "@jupyter-widgets/base",
      "_model_module_version": "1.2.0",
      "_model_name": "LayoutModel",
      "_view_count": null,
      "_view_module": "@jupyter-widgets/base",
      "_view_module_version": "1.2.0",
      "_view_name": "LayoutView",
      "align_content": null,
      "align_items": null,
      "align_self": null,
      "border": null,
      "bottom": null,
      "display": null,
      "flex": null,
      "flex_flow": null,
      "grid_area": null,
      "grid_auto_columns": null,
      "grid_auto_flow": null,
      "grid_auto_rows": null,
      "grid_column": null,
      "grid_gap": null,
      "grid_row": null,
      "grid_template_areas": null,
      "grid_template_columns": null,
      "grid_template_rows": null,
      "height": null,
      "justify_content": null,
      "justify_items": null,
      "left": null,
      "margin": null,
      "max_height": null,
      "max_width": null,
      "min_height": null,
      "min_width": null,
      "object_fit": null,
      "object_position": null,
      "order": null,
      "overflow": null,
      "overflow_x": null,
      "overflow_y": null,
      "padding": null,
      "right": null,
      "top": null,
      "visibility": null,
      "width": null
     }
    },
    "185f33111ab34563a8516a44b99c1c0b": {
     "model_module": "@jupyter-widgets/controls",
     "model_name": "ProgressStyleModel",
     "model_module_version": "1.5.0",
     "state": {
      "_model_module": "@jupyter-widgets/controls",
      "_model_module_version": "1.5.0",
      "_model_name": "ProgressStyleModel",
      "_view_count": null,
      "_view_module": "@jupyter-widgets/base",
      "_view_module_version": "1.2.0",
      "_view_name": "StyleView",
      "bar_color": null,
      "description_width": ""
     }
    },
    "88eab0d5277d4715ad86f9fef4d0b0db": {
     "model_module": "@jupyter-widgets/base",
     "model_name": "LayoutModel",
     "model_module_version": "1.2.0",
     "state": {
      "_model_module": "@jupyter-widgets/base",
      "_model_module_version": "1.2.0",
      "_model_name": "LayoutModel",
      "_view_count": null,
      "_view_module": "@jupyter-widgets/base",
      "_view_module_version": "1.2.0",
      "_view_name": "LayoutView",
      "align_content": null,
      "align_items": null,
      "align_self": null,
      "border": null,
      "bottom": null,
      "display": null,
      "flex": null,
      "flex_flow": null,
      "grid_area": null,
      "grid_auto_columns": null,
      "grid_auto_flow": null,
      "grid_auto_rows": null,
      "grid_column": null,
      "grid_gap": null,
      "grid_row": null,
      "grid_template_areas": null,
      "grid_template_columns": null,
      "grid_template_rows": null,
      "height": null,
      "justify_content": null,
      "justify_items": null,
      "left": null,
      "margin": null,
      "max_height": null,
      "max_width": null,
      "min_height": null,
      "min_width": null,
      "object_fit": null,
      "object_position": null,
      "order": null,
      "overflow": null,
      "overflow_x": null,
      "overflow_y": null,
      "padding": null,
      "right": null,
      "top": null,
      "visibility": null,
      "width": null
     }
    },
    "565982672d614575bc5fc5a2064ace7b": {
     "model_module": "@jupyter-widgets/controls",
     "model_name": "DescriptionStyleModel",
     "model_module_version": "1.5.0",
     "state": {
      "_model_module": "@jupyter-widgets/controls",
      "_model_module_version": "1.5.0",
      "_model_name": "DescriptionStyleModel",
      "_view_count": null,
      "_view_module": "@jupyter-widgets/base",
      "_view_module_version": "1.2.0",
      "_view_name": "StyleView",
      "description_width": ""
     }
    }
   }
  }
 },
 "cells": [
  {
   "metadata": {
    "ExecuteTime": {
     "end_time": "2024-06-17T20:58:07.770515Z",
     "start_time": "2024-06-17T20:58:07.768106Z"
    }
   },
   "cell_type": "code",
   "source": [
    "import warnings\n",
    "warnings.filterwarnings('ignore')"
   ],
   "outputs": [],
   "execution_count": 3
  },
  {
   "metadata": {
    "ExecuteTime": {
     "end_time": "2024-06-17T20:58:08.716353Z",
     "start_time": "2024-06-17T20:58:07.786581Z"
    }
   },
   "cell_type": "code",
   "source": [
    "import mlflow\n",
    "from mlflow.models import infer_signature"
   ],
   "outputs": [],
   "execution_count": 4
  },
  {
   "cell_type": "code",
   "source": [
    "from ucimlrepo import fetch_ucirepo\n",
    "import numpy as np\n",
    "import pandas as pd\n",
    "from sklearn.datasets import make_regression\n",
    "from sklearn.linear_model import LinearRegression\n",
    "import shap\n",
    "from cubist import Cubist\n",
    "\n",
    "# fetch dataset\n",
    "steel_industry_energy_consumption = fetch_ucirepo(id=851)"
   ],
   "metadata": {
    "id": "FE110O67ba3e",
    "executionInfo": {
     "status": "ok",
     "timestamp": 1718597548907,
     "user_tz": 300,
     "elapsed": 1073,
     "user": {
      "displayName": "Edward Rosales",
      "userId": "17827174956173946861"
     }
    },
    "ExecuteTime": {
     "end_time": "2024-06-17T20:58:15.726102Z",
     "start_time": "2024-06-17T20:58:08.719388Z"
    }
   },
   "outputs": [],
   "execution_count": 5
  },
  {
   "cell_type": "code",
   "source": [
    "df = pd.DataFrame(steel_industry_energy_consumption.data.original)"
   ],
   "metadata": {
    "id": "7yRmDZlycg9j",
    "executionInfo": {
     "status": "ok",
     "timestamp": 1718597548909,
     "user_tz": 300,
     "elapsed": 37,
     "user": {
      "displayName": "Edward Rosales",
      "userId": "17827174956173946861"
     }
    },
    "ExecuteTime": {
     "end_time": "2024-06-17T20:58:15.730033Z",
     "start_time": "2024-06-17T20:58:15.727147Z"
    }
   },
   "outputs": [],
   "execution_count": 6
  },
  {
   "cell_type": "code",
   "source": [
    "df['date'] = pd.to_datetime(df['date'], format='%d/%m/%Y %H:%M')"
   ],
   "metadata": {
    "id": "iiW1Wchzil1h",
    "executionInfo": {
     "status": "ok",
     "timestamp": 1718597548911,
     "user_tz": 300,
     "elapsed": 30,
     "user": {
      "displayName": "Edward Rosales",
      "userId": "17827174956173946861"
     }
    },
    "ExecuteTime": {
     "end_time": "2024-06-17T20:58:15.823078Z",
     "start_time": "2024-06-17T20:58:15.732022Z"
    }
   },
   "outputs": [],
   "execution_count": 7
  },
  {
   "cell_type": "code",
   "source": [
    "# Utilizamos One Hot Enconder para [\"Day_of_week\", \"Load_Type\"]  eliminando las columnas iniciales\n",
    "df = pd.get_dummies(df, columns=[\"Day_of_week\", \"Load_Type\"], drop_first=True)"
   ],
   "metadata": {
    "id": "CBz_o-sspA-G",
    "executionInfo": {
     "status": "ok",
     "timestamp": 1718597549493,
     "user_tz": 300,
     "elapsed": 37,
     "user": {
      "displayName": "Edward Rosales",
      "userId": "17827174956173946861"
     }
    },
    "ExecuteTime": {
     "end_time": "2024-06-17T20:58:15.836907Z",
     "start_time": "2024-06-17T20:58:15.824277Z"
    }
   },
   "outputs": [],
   "execution_count": 8
  },
  {
   "cell_type": "code",
   "source": [
    "# Visualizamos las columnas actuales del DataFrame\n",
    "# df.columns.to_list()"
   ],
   "metadata": {
    "colab": {
     "base_uri": "https://localhost:8080/"
    },
    "id": "VRGXMWN5erjT",
    "executionInfo": {
     "status": "ok",
     "timestamp": 1718597549493,
     "user_tz": 300,
     "elapsed": 36,
     "user": {
      "displayName": "Edward Rosales",
      "userId": "17827174956173946861"
     }
    },
    "outputId": "3a940e9f-a988-46de-df66-f90e4f1b66db",
    "ExecuteTime": {
     "end_time": "2024-06-17T20:58:15.839823Z",
     "start_time": "2024-06-17T20:58:15.837771Z"
    }
   },
   "outputs": [],
   "execution_count": 9
  },
  {
   "cell_type": "code",
   "source": [
    "# Hacemos una diferenciación entre fines de semana y días hábiles\n",
    "df['IsWeekend'] = df['WeekStatus'] == 'Weekend'"
   ],
   "metadata": {
    "id": "q0l32PXZqORh",
    "executionInfo": {
     "status": "ok",
     "timestamp": 1718597549493,
     "user_tz": 300,
     "elapsed": 25,
     "user": {
      "displayName": "Edward Rosales",
      "userId": "17827174956173946861"
     }
    },
    "ExecuteTime": {
     "end_time": "2024-06-17T20:58:15.848557Z",
     "start_time": "2024-06-17T20:58:15.840999Z"
    }
   },
   "outputs": [],
   "execution_count": 10
  },
  {
   "cell_type": "code",
   "source": [
    "# Eliminamos Date porque según EDA la potencia tiene muy baja dependencia de la temporalidad\n",
    "# Eiminamos WeekStatus porque según EDA la potencia cambia entre día laboral y fin de semana\n",
    "df = df.drop(['date', 'WeekStatus'], axis=1)"
   ],
   "metadata": {
    "id": "fuYtwQhCrNac",
    "executionInfo": {
     "status": "ok",
     "timestamp": 1718597549495,
     "user_tz": 300,
     "elapsed": 24,
     "user": {
      "displayName": "Edward Rosales",
      "userId": "17827174956173946861"
     }
    },
    "ExecuteTime": {
     "end_time": "2024-06-17T20:58:15.855771Z",
     "start_time": "2024-06-17T20:58:15.849745Z"
    }
   },
   "outputs": [],
   "execution_count": 11
  },
  {
   "metadata": {
    "ExecuteTime": {
     "end_time": "2024-06-17T20:58:15.859636Z",
     "start_time": "2024-06-17T20:58:15.856779Z"
    }
   },
   "cell_type": "code",
   "source": "#df.dtypes",
   "outputs": [],
   "execution_count": 12
  },
  {
   "metadata": {
    "ExecuteTime": {
     "end_time": "2024-06-17T20:58:15.865839Z",
     "start_time": "2024-06-17T20:58:15.861626Z"
    }
   },
   "cell_type": "code",
   "source": "mlflow.set_tracking_uri(uri=\"http://localhost:5001\")",
   "outputs": [],
   "execution_count": 13
  },
  {
   "cell_type": "code",
   "source": [
    "# Definimos conjunto de entrenamiento y variable dependiente Y\n",
    "X = df\n",
    "X = df.drop('Usage_kWh', axis=1)\n",
    "y = df['Usage_kWh']"
   ],
   "metadata": {
    "id": "Ml6YGbYHeyMC",
    "executionInfo": {
     "status": "ok",
     "timestamp": 1718597549496,
     "user_tz": 300,
     "elapsed": 18,
     "user": {
      "displayName": "Edward Rosales",
      "userId": "17827174956173946861"
     }
    },
    "ExecuteTime": {
     "end_time": "2024-06-17T20:58:15.872741Z",
     "start_time": "2024-06-17T20:58:15.866973Z"
    }
   },
   "outputs": [],
   "execution_count": 14
  },
  {
   "metadata": {
    "ExecuteTime": {
     "end_time": "2024-06-17T20:58:16.358825Z",
     "start_time": "2024-06-17T20:58:15.873679Z"
    }
   },
   "cell_type": "code",
   "source": [
    "experiment_name = \"RegresionLineal\"\n",
    "experiment_id = mlflow.create_experiment(experiment_name) if not mlflow.get_experiment_by_name(experiment_name) else mlflow.get_experiment_by_name(experiment_name).experiment_id"
   ],
   "outputs": [],
   "execution_count": 15
  },
  {
   "metadata": {
    "ExecuteTime": {
     "end_time": "2024-06-17T20:58:16.362745Z",
     "start_time": "2024-06-17T20:58:16.360024Z"
    }
   },
   "cell_type": "code",
   "source": [
    "from sklearn.model_selection import train_test_split\n",
    "from sklearn.linear_model import LinearRegression\n",
    "from sklearn.metrics import mean_squared_error, mean_absolute_error, r2_score"
   ],
   "outputs": [],
   "execution_count": 16
  },
  {
   "metadata": {
    "ExecuteTime": {
     "end_time": "2024-06-17T20:58:16.541500Z",
     "start_time": "2024-06-17T20:58:16.363760Z"
    }
   },
   "cell_type": "code",
   "source": [
    "with mlflow.start_run(experiment_id=experiment_id):\n",
    "    \n",
    "    # Desarrollamos Regresión Lineal   \n",
    "    X_train, X_test, y_train, y_test = train_test_split(X, y, test_size=0.2, random_state=42)\n",
    "    \n",
    "    # Crear el modelo de regresión lineal\n",
    "    model = LinearRegression()\n",
    "    \n",
    "    # Entrenar el modelo\n",
    "    model.fit(X_train, y_train)\n",
    "    "
   ],
   "outputs": [],
   "execution_count": 17
  },
  {
   "metadata": {
    "ExecuteTime": {
     "end_time": "2024-06-17T20:58:20.002511Z",
     "start_time": "2024-06-17T20:58:16.542542Z"
    }
   },
   "cell_type": "code",
   "source": [
    "mlflow.sklearn.log_model(model, \"model\")\n",
    "\n",
    "# Realizar predicciones\n",
    "y_pred = model.predict(X_test)\n",
    "\n",
    "# Evaluar el modelo\n",
    "# Calcular MSE\n",
    "mse = mean_squared_error(y_test, y_pred)\n",
    "\n",
    "# Calcular RMSE\n",
    "rmse = np.sqrt(mse)\n",
    "\n",
    "# Calcular MAE\n",
    "mae = mean_absolute_error(y_test, y_pred)\n",
    "\n",
    "# Calcular R^2\n",
    "r2 = r2_score(y_test, y_pred)\n",
    "\n",
    "print(f'Mean Squared Error (MSE): {mse}')\n",
    "print(f'Root Mean Squared Error (RMSE): {rmse}')\n",
    "print(f'Mean Absolute Error (MAE): {mae}')\n",
    "print(f'R^2 Score: {r2}')\n",
    "\n",
    "mlflow.log_param(\"mse\", mse)\n",
    "mlflow.log_param(\"rmse\", rmse)\n",
    "mlflow.log_param(\"mae\", mae)\n",
    "mlflow.log_metric(\"r2\", r2)"
   ],
   "outputs": [
    {
     "name": "stdout",
     "output_type": "stream",
     "text": [
      "Mean Squared Error (MSE): 17.842279082761355\n",
      "Root Mean Squared Error (RMSE): 4.224012202013786\n",
      "Mean Absolute Error (MAE): 2.5337743872306184\n",
      "R^2 Score: 0.9843037490428197\n"
     ]
    }
   ],
   "execution_count": 18
  },
  {
   "metadata": {
    "ExecuteTime": {
     "end_time": "2024-06-17T20:58:00.018037Z",
     "start_time": "2024-06-17T20:57:59.854263Z"
    }
   },
   "cell_type": "code",
   "source": [
    "# Example:\n",
    "mlflow.log_param(\"learning_rate\", learning_rate)  # If you used a learning rate parameter\n",
    "\n",
    "# Example (if relevant):\n",
    "mlflow.log_artifact(\"data.csv\", \"data\")  # Assuming data.csv is used during training"
   ],
   "outputs": [
    {
     "ename": "NameError",
     "evalue": "name 'mlflow' is not defined",
     "output_type": "error",
     "traceback": [
      "\u001B[0;31m---------------------------------------------------------------------------\u001B[0m",
      "\u001B[0;31mNameError\u001B[0m                                 Traceback (most recent call last)",
      "Cell \u001B[0;32mIn[1], line 2\u001B[0m\n\u001B[1;32m      1\u001B[0m \u001B[38;5;66;03m# Example:\u001B[39;00m\n\u001B[0;32m----> 2\u001B[0m \u001B[43mmlflow\u001B[49m\u001B[38;5;241m.\u001B[39mlog_param(\u001B[38;5;124m\"\u001B[39m\u001B[38;5;124mlearning_rate\u001B[39m\u001B[38;5;124m\"\u001B[39m, learning_rate)  \u001B[38;5;66;03m# If you used a learning rate parameter\u001B[39;00m\n\u001B[1;32m      4\u001B[0m \u001B[38;5;66;03m# Example (if relevant):\u001B[39;00m\n\u001B[1;32m      5\u001B[0m mlflow\u001B[38;5;241m.\u001B[39mlog_artifact(\u001B[38;5;124m\"\u001B[39m\u001B[38;5;124mdata.csv\u001B[39m\u001B[38;5;124m\"\u001B[39m, \u001B[38;5;124m\"\u001B[39m\u001B[38;5;124mdata\u001B[39m\u001B[38;5;124m\"\u001B[39m)  \u001B[38;5;66;03m# Assuming data.csv is used during training\u001B[39;00m\n",
      "\u001B[0;31mNameError\u001B[0m: name 'mlflow' is not defined"
     ]
    }
   ],
   "execution_count": 1
  },
  {
   "cell_type": "markdown",
   "source": [
    "Agregamos modelos a utilizar, Arbol de Decisión, RandomForest, XGBoost Regressor, CUBIST"
   ],
   "metadata": {
    "id": "7Qun7boCKms_"
   }
  },
  {
   "cell_type": "code",
   "source": [
    "from sklearn.tree import DecisionTreeRegressor\n",
    "from sklearn.ensemble import RandomForestRegressor\n",
    "import xgboost as xgb\n",
    "\n",
    "modelos = [('LinearRegression',LinearRegression()),\n",
    "    ('DecisionTreeRegressor', DecisionTreeRegressor(max_depth=2)),\n",
    "    ('RandomForestRegressor', RandomForestRegressor(min_samples_split=2, min_weight_fraction_leaf=0.0,n_estimators=40, n_jobs=-1, oob_score=True,random_state=None, verbose=0, warm_start=False)),\n",
    "    ('XGBRegressor', xgb.XGBRegressor(learning_rate=0.01,n_estimators=500,max_depth=5,eval_metric='rmsle')),\n",
    "    ('Cubist', Cubist(n_rules=500,neighbors=None,unbiased=True,auto=False,extrapolation=0.1,n_committees=5))\n",
    "]\n",
    "\n",
    "\n",
    "#procedimiento para comparar los modelos\n",
    "for nombre, model in modelos:\n",
    "  model.fit(X_train, y_train)\n",
    "  y_pred = model.predict(X_test)\n",
    "  mse = mean_squared_error(y_test, y_pred)\n",
    "  rmse = np.sqrt(mse)\n",
    "  mae = mean_absolute_error(y_test, y_pred)\n",
    "  r2 = r2_score(y_test, y_pred)\n",
    "\n",
    "  print(f'{nombre},\" score: \",{model.score(X_test,y_pred):.03f}',end=\" \")\n",
    "  print(f'Mean Squared Error (MSE): {mse:.03f}',end=\" \")\n",
    "  print(f'Root Mean Squared Error (RMSE): {rmse:.03f}',end=\" \")\n",
    "  print(f'Mean Absolute Error (MAE): {mae:.03f}',end=\" \")\n",
    "  print(f'R^2 Score: {r2:.03f}',end=\" \")\n",
    "  print(\"\")"
   ],
   "metadata": {
    "colab": {
     "base_uri": "https://localhost:8080/"
    },
    "id": "oYEyCNFW1b58",
    "executionInfo": {
     "status": "ok",
     "timestamp": 1718597596224,
     "user_tz": 300,
     "elapsed": 46742,
     "user": {
      "displayName": "Edward Rosales",
      "userId": "17827174956173946861"
     }
    },
    "outputId": "9df3a58b-097e-4041-8481-b21b3f54818a"
   },
   "outputs": [],
   "execution_count": null
  },
  {
   "cell_type": "markdown",
   "source": [
    "Buscamos mejores valores de hiperparámetros para los 2 modelos con mejores resultados, XGBRegressor y Cubist\n",
    "1. XGBRegressor"
   ],
   "metadata": {
    "id": "2IrYgVLo_5Gr"
   }
  },
  {
   "cell_type": "code",
   "source": [
    "from pprint import pprint\n",
    "import numpy as np\n",
    "\n",
    "n_estimators = [int(x) for x in np.linspace(start = 200, stop = 2000, num = 10)]\n",
    "max_leaves = [0, 8, 10, 12, 16, 20]  # 0 equivale a 'no limit'\n",
    "max_depth = [int(x) for x in np.linspace(10, 110, num = 11)] + [None]\n",
    "\n",
    "\n",
    "random_grid = {'n_estimators': n_estimators,\n",
    "               'max_leaves': max_leaves,\n",
    "               'max_depth': max_depth}\n",
    "\n",
    "print('Los valores a probar en la búsqueda aleatoria son:')\n",
    "pprint(random_grid)\n",
    "\n",
    "print()\n",
    "print('El número total de combinaciones de parámetros de entrenamiento es',\n",
    "      len(random_grid['n_estimators']) *\n",
    "      len(random_grid['max_leaves']) *\n",
    "      len(random_grid['max_depth'])\n",
    "      )"
   ],
   "metadata": {
    "colab": {
     "base_uri": "https://localhost:8080/"
    },
    "id": "i0E3zffD_1P_",
    "executionInfo": {
     "status": "ok",
     "timestamp": 1718597596762,
     "user_tz": 300,
     "elapsed": 566,
     "user": {
      "displayName": "Edward Rosales",
      "userId": "17827174956173946861"
     }
    },
    "outputId": "32e61281-9d91-4a6e-d353-b02383bde485"
   },
   "outputs": [],
   "execution_count": null
  },
  {
   "cell_type": "markdown",
   "source": [
    "Usaremos la recomendación de busqueda con el 10%"
   ],
   "metadata": {
    "id": "b8fG8V8pBeMh"
   }
  },
  {
   "cell_type": "code",
   "source": [
    "from sklearn.model_selection import RandomizedSearchCV\n",
    "\n",
    "xgbb = xgb.XGBRegressor()\n",
    "xgb_random = RandomizedSearchCV(estimator = xgbb,\n",
    "                               param_distributions = random_grid,\n",
    "                               n_iter = 20,\n",
    "                               cv = 3,          # Validación cruzada 3-fold\n",
    "                               verbose=2,\n",
    "                               random_state=0,\n",
    "                               n_jobs = -1      # Paralelizar en todos los cores disponibles\n",
    "                               )\n",
    "xgb_random.fit(X_train, y_train)"
   ],
   "metadata": {
    "colab": {
     "base_uri": "https://localhost:8080/",
     "height": 138
    },
    "id": "S4ZIBX7TBlLe",
    "executionInfo": {
     "status": "ok",
     "timestamp": 1718597792307,
     "user_tz": 300,
     "elapsed": 195594,
     "user": {
      "displayName": "Edward Rosales",
      "userId": "17827174956173946861"
     }
    },
    "outputId": "24c36a39-93b7-4ce5-a889-0f435597e10a"
   },
   "outputs": [],
   "execution_count": null
  },
  {
   "cell_type": "code",
   "source": [
    "xgb_random_best = xgb_random.best_estimator_\n",
    "\n",
    "print('Los hiperparámetros del mejor modelo son:')\n",
    "pprint(xgb_random.best_params_)\n",
    "print()\n",
    "\n",
    "print('Exactitud luego de búsqueda aleatoria en entrenamiento:', xgb_random_best.score(X_train, y_train))\n",
    "print('Exactitud luego de búsqueda aleatoria en validación:', xgb_random_best.score(X_test, y_test))"
   ],
   "metadata": {
    "colab": {
     "base_uri": "https://localhost:8080/"
    },
    "id": "bdzsPOD3BoIb",
    "executionInfo": {
     "status": "ok",
     "timestamp": 1718597792798,
     "user_tz": 300,
     "elapsed": 508,
     "user": {
      "displayName": "Edward Rosales",
      "userId": "17827174956173946861"
     }
    },
    "outputId": "288aa26c-ac02-4ab2-ff06-6b377bdc2509"
   },
   "outputs": [],
   "execution_count": null
  },
  {
   "cell_type": "markdown",
   "source": [
    "2. Búsqueda de hiperparámetros para el método Cubist"
   ],
   "metadata": {
    "id": "WkUiiqoYEqAl"
   }
  },
  {
   "cell_type": "code",
   "source": [
    "from pprint import pprint\n",
    "import numpy as np\n",
    "\n",
    "###Hiperparámetros a considerar\n",
    "# n_rules (int, default=500)\n",
    "# n_committees (int, default=0):\n",
    "# neighbors (int, default=None)\n",
    "# extrapolation (float, default=0.05):\n",
    "\n",
    "n_rules = [int(x) for x in np.linspace(start = 200, stop = 1000, num = 10)]\n",
    "n_committees = [1, 2, 5, 10, 15]  # 5 es el recomendado en la documentación\n",
    "neighbors = [int(x) for x in np.linspace(1, 9, num = 1)]\n",
    "extrapolation = [0.01, 0.03, 0.05, 0.07, 0.09] #0,05 = 5% es el recomendado\n",
    "\n",
    "\n",
    "random_grid = {'n_rules': n_rules,\n",
    "               'n_committees': n_committees,\n",
    "               'neighbors': neighbors,\n",
    "               'extrapolation':extrapolation}\n",
    "\n",
    "print('Los valores a probar en la búsqueda aleatoria son:')\n",
    "pprint(random_grid)\n",
    "\n",
    "print()\n",
    "print('El número total de combinaciones de parámetros de entrenamiento es',\n",
    "      len(random_grid['n_rules']) *\n",
    "      len(random_grid['n_committees']) *\n",
    "      len(random_grid['neighbors']) *\n",
    "      len(random_grid['extrapolation'])\n",
    "      )"
   ],
   "metadata": {
    "colab": {
     "base_uri": "https://localhost:8080/"
    },
    "id": "PWyz-zddEr-4",
    "executionInfo": {
     "status": "ok",
     "timestamp": 1718597792799,
     "user_tz": 300,
     "elapsed": 13,
     "user": {
      "displayName": "Edward Rosales",
      "userId": "17827174956173946861"
     }
    },
    "outputId": "e309ab94-b7b0-4b7d-8311-f5e884a51a1f"
   },
   "outputs": [],
   "execution_count": null
  },
  {
   "cell_type": "code",
   "source": [
    "#usamos la recomendación de probar con el 10%\n",
    "\n",
    "cbst = Cubist()\n",
    "cbst_random = RandomizedSearchCV(estimator = cbst,\n",
    "                               param_distributions = random_grid,\n",
    "                               n_iter = 5,\n",
    "                               cv = 3,          # Validación cruzada 3-fold\n",
    "                               verbose=2,\n",
    "                               random_state=0,\n",
    "                               n_jobs = -1      # Paralelizar en todos los cores disponibles\n",
    "                               )\n",
    "cbst_random.fit(X_train, y_train)"
   ],
   "metadata": {
    "colab": {
     "base_uri": "https://localhost:8080/",
     "height": 138
    },
    "id": "TldUvA1iGsuf",
    "executionInfo": {
     "status": "ok",
     "timestamp": 1718600119084,
     "user_tz": 300,
     "elapsed": 282984,
     "user": {
      "displayName": "Edward Rosales",
      "userId": "17827174956173946861"
     }
    },
    "outputId": "debcd11d-2c88-4639-89f7-1a2a7eaf684f"
   },
   "outputs": [],
   "execution_count": null
  },
  {
   "cell_type": "code",
   "source": [
    "cbst_random_best = cbst_random.best_estimator_\n",
    "\n",
    "print('Los hiperparámetros del mejor modelo son:')\n",
    "pprint(cbst_random.best_params_)\n",
    "print()\n",
    "\n",
    "print('Exactitud luego de búsqueda aleatoria en entrenamiento:', cbst_random_best.score(X_train, y_train))\n",
    "print('Exactitud luego de búsqueda aleatoria en validación:', cbst_random_best.score(X_test, y_test))"
   ],
   "metadata": {
    "colab": {
     "base_uri": "https://localhost:8080/"
    },
    "id": "kwiNoHMUHD1K",
    "executionInfo": {
     "status": "ok",
     "timestamp": 1718600187286,
     "user_tz": 300,
     "elapsed": 22950,
     "user": {
      "displayName": "Edward Rosales",
      "userId": "17827174956173946861"
     }
    },
    "outputId": "29f840c0-6f2a-41de-9b79-b7053fbbc1c2"
   },
   "outputs": [],
   "execution_count": null
  },
  {
   "cell_type": "markdown",
   "source": [
    "**Uso de la librería OPTUNA para encontrar los mejores hiperparámetros**\n",
    "\n",
    "Estimamos los mejores hiperparámetros usando la librería OPTUNA sugerida en el plantemiento del proyecto"
   ],
   "metadata": {
    "id": "ZXjgKgcTbseS"
   }
  },
  {
   "cell_type": "code",
   "source": [
    "import optuna\n",
    "import optuna.visualization as vis\n",
    "\n",
    "# Para trabajar con optuna, debemos definir la función objetivo que luego le diremos a optuna que debe minimizar (según nuestro indicador escogido RMSE)\n",
    "def objective(trial):\n",
    "  # Dejamos que optuna sugiera los hiperparámetros iniciales\n",
    "  n_rules = trial.suggest_int(\"n_rules\", 200, 1000)\n",
    "  n_committees = trial.suggest_int(\"n_committees\", 1, 15)\n",
    "  neighbors = trial.suggest_int(\"neighbors\", 1, 9)\n",
    "  extrapolation = trial.suggest_float(\"extrapolation\",0.01, 0.09)\n",
    "\n",
    "  #Definimos el modelo Cubist a utilizar para la optimización\n",
    "  cbst = Cubist(n_rules= n_rules, n_committees=n_committees, neighbors=neighbors, extrapolation=extrapolation)\n",
    "  cbst.fit(X_train, y_train)\n",
    "\n",
    "  # Make predictions and calculate RMSE\n",
    "  y_pred = model.predict(X_test)\n",
    "  rmse = np.sqrt(mean_squared_error(y_test, y_pred))\n",
    "  mae = mean_absolute_error(y_test, y_pred)\n",
    "  r2 = r2_score(y_test, y_pred)\n",
    "\n",
    "  # Return MAE\n",
    "  return mae"
   ],
   "metadata": {
    "id": "suRtgrxqY3ZH",
    "executionInfo": {
     "status": "ok",
     "timestamp": 1718603160395,
     "user_tz": 300,
     "elapsed": 415,
     "user": {
      "displayName": "Edward Rosales",
      "userId": "17827174956173946861"
     }
    }
   },
   "outputs": [],
   "execution_count": null
  },
  {
   "cell_type": "code",
   "source": [
    "# Creamos el \"objeto de estudio\", como llama Optuna\n",
    "study = optuna.create_study(direction=\"minimize\")\n",
    "\n",
    "# Ejecutamos el proceso en si de optimización, le pasamos la función objetivo definida en el paso previo\n",
    "study.optimize(objective, n_trials=10, show_progress_bar=True)"
   ],
   "metadata": {
    "colab": {
     "base_uri": "https://localhost:8080/",
     "height": 240,
     "referenced_widgets": [
      "19889302f879489ab38033228da16001",
      "24af2c1df7cd46cab2aa20cc0b097e0e",
      "2843d3bb2b8143a0ad0ce79c8a8079e8",
      "c62acd9b76854977a1f69083519d2e10",
      "e3a98af4517640d3bc9fb3704c53a550",
      "d6a4905b3cfc4b4195940f487a6223a4",
      "e187b2fd709b4d6f833fbd9a24560adf",
      "874a0a491dd34d1e9347c54af1d75024",
      "185f33111ab34563a8516a44b99c1c0b",
      "88eab0d5277d4715ad86f9fef4d0b0db",
      "565982672d614575bc5fc5a2064ace7b"
     ]
    },
    "id": "QXck-U6Ldo9O",
    "executionInfo": {
     "status": "ok",
     "timestamp": 1718600633874,
     "user_tz": 300,
     "elapsed": 438203,
     "user": {
      "displayName": "Edward Rosales",
      "userId": "17827174956173946861"
     }
    },
    "outputId": "c232afb6-87c9-43af-ded5-7b5cd1931b68"
   },
   "outputs": [],
   "execution_count": null
  },
  {
   "cell_type": "code",
   "source": [
    "# Imprimimos los resultados del estudio con optuna\n",
    "print(\"Best trial:\", study.best_trial)\n",
    "print(\"Best hyperparameters:\", study.best_params)"
   ],
   "metadata": {
    "colab": {
     "base_uri": "https://localhost:8080/"
    },
    "id": "b4WIOh7efs74",
    "executionInfo": {
     "status": "ok",
     "timestamp": 1718600765245,
     "user_tz": 300,
     "elapsed": 426,
     "user": {
      "displayName": "Edward Rosales",
      "userId": "17827174956173946861"
     }
    },
    "outputId": "e70ec934-c5c1-4924-a565-1515dbda1e02"
   },
   "outputs": [
    {
     "ename": "NameError",
     "evalue": "name 'study' is not defined",
     "output_type": "error",
     "traceback": [
      "\u001B[0;31m---------------------------------------------------------------------------\u001B[0m",
      "\u001B[0;31mNameError\u001B[0m                                 Traceback (most recent call last)",
      "Cell \u001B[0;32mIn[2], line 2\u001B[0m\n\u001B[1;32m      1\u001B[0m \u001B[38;5;66;03m# Imprimimos los resultados del estudio con optuna\u001B[39;00m\n\u001B[0;32m----> 2\u001B[0m \u001B[38;5;28mprint\u001B[39m(\u001B[38;5;124m\"\u001B[39m\u001B[38;5;124mBest trial:\u001B[39m\u001B[38;5;124m\"\u001B[39m, \u001B[43mstudy\u001B[49m\u001B[38;5;241m.\u001B[39mbest_trial)\n\u001B[1;32m      3\u001B[0m \u001B[38;5;28mprint\u001B[39m(\u001B[38;5;124m\"\u001B[39m\u001B[38;5;124mBest hyperparameters:\u001B[39m\u001B[38;5;124m\"\u001B[39m, study\u001B[38;5;241m.\u001B[39mbest_params)\n",
      "\u001B[0;31mNameError\u001B[0m: name 'study' is not defined"
     ]
    }
   ],
   "execution_count": 2
  },
  {
   "cell_type": "code",
   "source": [
    "#Utilizamos algunos gráficos utiles de la librería optuna\n",
    "# Plotear el historial de la optimización realizada\n",
    "vis.plot_optimization_history(study)\n",
    "\n",
    "# Plotear tipo 'slice'\n",
    "#vis.plot_slice(study, params=[\"n_rules\", \"n_committees\"])\n",
    "\n",
    "# Ploteo tipo 'contorno'\n",
    "#vis.plot_contour(study, params=[\"neighbors\", \"extrapolation\"])\n",
    "\n",
    "# Plotear parallel_coordinate\n",
    "vis.plot_parallel_coordinate(study)"
   ],
   "metadata": {
    "colab": {
     "base_uri": "https://localhost:8080/",
     "height": 542
    },
    "id": "gOJNWYGiuWey",
    "executionInfo": {
     "status": "ok",
     "timestamp": 1718603513118,
     "user_tz": 300,
     "elapsed": 365,
     "user": {
      "displayName": "Edward Rosales",
      "userId": "17827174956173946861"
     }
    },
    "outputId": "b86c3044-063f-4e2f-a4cc-19ff3fadc96f"
   },
   "outputs": [],
   "execution_count": null
  },
  {
   "cell_type": "code",
   "source": [
    "optuna.visualization.plot_optimization_history(study)"
   ],
   "metadata": {
    "colab": {
     "base_uri": "https://localhost:8080/",
     "height": 542
    },
    "id": "vVbJhEvKwKkA",
    "executionInfo": {
     "status": "ok",
     "timestamp": 1718603555245,
     "user_tz": 300,
     "elapsed": 607,
     "user": {
      "displayName": "Edward Rosales",
      "userId": "17827174956173946861"
     }
    },
    "outputId": "55948cf0-f82a-43c8-d2a1-bb97440ee394"
   },
   "outputs": [],
   "execution_count": null
  }
 ]
}
