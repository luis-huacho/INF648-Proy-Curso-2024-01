{
 "nbformat": 4,
 "nbformat_minor": 0,
 "metadata": {
  "colab": {
   "provenance": []
  },
  "kernelspec": {
   "name": "python3",
   "display_name": "Python 3 (ipykernel)",
   "language": "python"
  },
  "language_info": {
   "name": "python"
  },
  "widgets": {
   "application/vnd.jupyter.widget-state+json": {
    "19889302f879489ab38033228da16001": {
     "model_module": "@jupyter-widgets/controls",
     "model_name": "HBoxModel",
     "model_module_version": "1.5.0",
     "state": {
      "_dom_classes": [],
      "_model_module": "@jupyter-widgets/controls",
      "_model_module_version": "1.5.0",
      "_model_name": "HBoxModel",
      "_view_count": null,
      "_view_module": "@jupyter-widgets/controls",
      "_view_module_version": "1.5.0",
      "_view_name": "HBoxView",
      "box_style": "",
      "children": [
       "IPY_MODEL_24af2c1df7cd46cab2aa20cc0b097e0e",
       "IPY_MODEL_2843d3bb2b8143a0ad0ce79c8a8079e8",
       "IPY_MODEL_c62acd9b76854977a1f69083519d2e10"
      ],
      "layout": "IPY_MODEL_e3a98af4517640d3bc9fb3704c53a550"
     }
    },
    "24af2c1df7cd46cab2aa20cc0b097e0e": {
     "model_module": "@jupyter-widgets/controls",
     "model_name": "HTMLModel",
     "model_module_version": "1.5.0",
     "state": {
      "_dom_classes": [],
      "_model_module": "@jupyter-widgets/controls",
      "_model_module_version": "1.5.0",
      "_model_name": "HTMLModel",
      "_view_count": null,
      "_view_module": "@jupyter-widgets/controls",
      "_view_module_version": "1.5.0",
      "_view_name": "HTMLView",
      "description": "",
      "description_tooltip": null,
      "layout": "IPY_MODEL_d6a4905b3cfc4b4195940f487a6223a4",
      "placeholder": "​",
      "style": "IPY_MODEL_e187b2fd709b4d6f833fbd9a24560adf",
      "value": "Best trial: 0. Best value: 0.0642072: 100%"
     }
    },
    "2843d3bb2b8143a0ad0ce79c8a8079e8": {
     "model_module": "@jupyter-widgets/controls",
     "model_name": "FloatProgressModel",
     "model_module_version": "1.5.0",
     "state": {
      "_dom_classes": [],
      "_model_module": "@jupyter-widgets/controls",
      "_model_module_version": "1.5.0",
      "_model_name": "FloatProgressModel",
      "_view_count": null,
      "_view_module": "@jupyter-widgets/controls",
      "_view_module_version": "1.5.0",
      "_view_name": "ProgressView",
      "bar_style": "success",
      "description": "",
      "description_tooltip": null,
      "layout": "IPY_MODEL_874a0a491dd34d1e9347c54af1d75024",
      "max": 10,
      "min": 0,
      "orientation": "horizontal",
      "style": "IPY_MODEL_185f33111ab34563a8516a44b99c1c0b",
      "value": 10
     }
    },
    "c62acd9b76854977a1f69083519d2e10": {
     "model_module": "@jupyter-widgets/controls",
     "model_name": "HTMLModel",
     "model_module_version": "1.5.0",
     "state": {
      "_dom_classes": [],
      "_model_module": "@jupyter-widgets/controls",
      "_model_module_version": "1.5.0",
      "_model_name": "HTMLModel",
      "_view_count": null,
      "_view_module": "@jupyter-widgets/controls",
      "_view_module_version": "1.5.0",
      "_view_name": "HTMLView",
      "description": "",
      "description_tooltip": null,
      "layout": "IPY_MODEL_88eab0d5277d4715ad86f9fef4d0b0db",
      "placeholder": "​",
      "style": "IPY_MODEL_565982672d614575bc5fc5a2064ace7b",
      "value": " 10/10 [07:17&lt;00:00, 41.82s/it]"
     }
    },
    "e3a98af4517640d3bc9fb3704c53a550": {
     "model_module": "@jupyter-widgets/base",
     "model_name": "LayoutModel",
     "model_module_version": "1.2.0",
     "state": {
      "_model_module": "@jupyter-widgets/base",
      "_model_module_version": "1.2.0",
      "_model_name": "LayoutModel",
      "_view_count": null,
      "_view_module": "@jupyter-widgets/base",
      "_view_module_version": "1.2.0",
      "_view_name": "LayoutView",
      "align_content": null,
      "align_items": null,
      "align_self": null,
      "border": null,
      "bottom": null,
      "display": null,
      "flex": null,
      "flex_flow": null,
      "grid_area": null,
      "grid_auto_columns": null,
      "grid_auto_flow": null,
      "grid_auto_rows": null,
      "grid_column": null,
      "grid_gap": null,
      "grid_row": null,
      "grid_template_areas": null,
      "grid_template_columns": null,
      "grid_template_rows": null,
      "height": null,
      "justify_content": null,
      "justify_items": null,
      "left": null,
      "margin": null,
      "max_height": null,
      "max_width": null,
      "min_height": null,
      "min_width": null,
      "object_fit": null,
      "object_position": null,
      "order": null,
      "overflow": null,
      "overflow_x": null,
      "overflow_y": null,
      "padding": null,
      "right": null,
      "top": null,
      "visibility": null,
      "width": null
     }
    },
    "d6a4905b3cfc4b4195940f487a6223a4": {
     "model_module": "@jupyter-widgets/base",
     "model_name": "LayoutModel",
     "model_module_version": "1.2.0",
     "state": {
      "_model_module": "@jupyter-widgets/base",
      "_model_module_version": "1.2.0",
      "_model_name": "LayoutModel",
      "_view_count": null,
      "_view_module": "@jupyter-widgets/base",
      "_view_module_version": "1.2.0",
      "_view_name": "LayoutView",
      "align_content": null,
      "align_items": null,
      "align_self": null,
      "border": null,
      "bottom": null,
      "display": null,
      "flex": null,
      "flex_flow": null,
      "grid_area": null,
      "grid_auto_columns": null,
      "grid_auto_flow": null,
      "grid_auto_rows": null,
      "grid_column": null,
      "grid_gap": null,
      "grid_row": null,
      "grid_template_areas": null,
      "grid_template_columns": null,
      "grid_template_rows": null,
      "height": null,
      "justify_content": null,
      "justify_items": null,
      "left": null,
      "margin": null,
      "max_height": null,
      "max_width": null,
      "min_height": null,
      "min_width": null,
      "object_fit": null,
      "object_position": null,
      "order": null,
      "overflow": null,
      "overflow_x": null,
      "overflow_y": null,
      "padding": null,
      "right": null,
      "top": null,
      "visibility": null,
      "width": null
     }
    },
    "e187b2fd709b4d6f833fbd9a24560adf": {
     "model_module": "@jupyter-widgets/controls",
     "model_name": "DescriptionStyleModel",
     "model_module_version": "1.5.0",
     "state": {
      "_model_module": "@jupyter-widgets/controls",
      "_model_module_version": "1.5.0",
      "_model_name": "DescriptionStyleModel",
      "_view_count": null,
      "_view_module": "@jupyter-widgets/base",
      "_view_module_version": "1.2.0",
      "_view_name": "StyleView",
      "description_width": ""
     }
    },
    "874a0a491dd34d1e9347c54af1d75024": {
     "model_module": "@jupyter-widgets/base",
     "model_name": "LayoutModel",
     "model_module_version": "1.2.0",
     "state": {
      "_model_module": "@jupyter-widgets/base",
      "_model_module_version": "1.2.0",
      "_model_name": "LayoutModel",
      "_view_count": null,
      "_view_module": "@jupyter-widgets/base",
      "_view_module_version": "1.2.0",
      "_view_name": "LayoutView",
      "align_content": null,
      "align_items": null,
      "align_self": null,
      "border": null,
      "bottom": null,
      "display": null,
      "flex": null,
      "flex_flow": null,
      "grid_area": null,
      "grid_auto_columns": null,
      "grid_auto_flow": null,
      "grid_auto_rows": null,
      "grid_column": null,
      "grid_gap": null,
      "grid_row": null,
      "grid_template_areas": null,
      "grid_template_columns": null,
      "grid_template_rows": null,
      "height": null,
      "justify_content": null,
      "justify_items": null,
      "left": null,
      "margin": null,
      "max_height": null,
      "max_width": null,
      "min_height": null,
      "min_width": null,
      "object_fit": null,
      "object_position": null,
      "order": null,
      "overflow": null,
      "overflow_x": null,
      "overflow_y": null,
      "padding": null,
      "right": null,
      "top": null,
      "visibility": null,
      "width": null
     }
    },
    "185f33111ab34563a8516a44b99c1c0b": {
     "model_module": "@jupyter-widgets/controls",
     "model_name": "ProgressStyleModel",
     "model_module_version": "1.5.0",
     "state": {
      "_model_module": "@jupyter-widgets/controls",
      "_model_module_version": "1.5.0",
      "_model_name": "ProgressStyleModel",
      "_view_count": null,
      "_view_module": "@jupyter-widgets/base",
      "_view_module_version": "1.2.0",
      "_view_name": "StyleView",
      "bar_color": null,
      "description_width": ""
     }
    },
    "88eab0d5277d4715ad86f9fef4d0b0db": {
     "model_module": "@jupyter-widgets/base",
     "model_name": "LayoutModel",
     "model_module_version": "1.2.0",
     "state": {
      "_model_module": "@jupyter-widgets/base",
      "_model_module_version": "1.2.0",
      "_model_name": "LayoutModel",
      "_view_count": null,
      "_view_module": "@jupyter-widgets/base",
      "_view_module_version": "1.2.0",
      "_view_name": "LayoutView",
      "align_content": null,
      "align_items": null,
      "align_self": null,
      "border": null,
      "bottom": null,
      "display": null,
      "flex": null,
      "flex_flow": null,
      "grid_area": null,
      "grid_auto_columns": null,
      "grid_auto_flow": null,
      "grid_auto_rows": null,
      "grid_column": null,
      "grid_gap": null,
      "grid_row": null,
      "grid_template_areas": null,
      "grid_template_columns": null,
      "grid_template_rows": null,
      "height": null,
      "justify_content": null,
      "justify_items": null,
      "left": null,
      "margin": null,
      "max_height": null,
      "max_width": null,
      "min_height": null,
      "min_width": null,
      "object_fit": null,
      "object_position": null,
      "order": null,
      "overflow": null,
      "overflow_x": null,
      "overflow_y": null,
      "padding": null,
      "right": null,
      "top": null,
      "visibility": null,
      "width": null
     }
    },
    "565982672d614575bc5fc5a2064ace7b": {
     "model_module": "@jupyter-widgets/controls",
     "model_name": "DescriptionStyleModel",
     "model_module_version": "1.5.0",
     "state": {
      "_model_module": "@jupyter-widgets/controls",
      "_model_module_version": "1.5.0",
      "_model_name": "DescriptionStyleModel",
      "_view_count": null,
      "_view_module": "@jupyter-widgets/base",
      "_view_module_version": "1.2.0",
      "_view_name": "StyleView",
      "description_width": ""
     }
    }
   }
  }
 },
 "cells": [
  {
   "metadata": {
    "ExecuteTime": {
     "end_time": "2024-06-17T23:32:46.888985Z",
     "start_time": "2024-06-17T23:32:46.885047Z"
    }
   },
   "cell_type": "code",
   "source": [
    "import warnings\n",
    "warnings.filterwarnings('ignore')"
   ],
   "execution_count": 1,
   "outputs": []
  },
  {
   "metadata": {
    "ExecuteTime": {
     "end_time": "2024-06-17T23:32:48.132045Z",
     "start_time": "2024-06-17T23:32:46.890865Z"
    }
   },
   "cell_type": "code",
   "source": [
    "import mlflow\n",
    "from mlflow.models import infer_signature"
   ],
   "execution_count": 2,
   "outputs": []
  },
  {
   "cell_type": "code",
   "source": [
    "from ucimlrepo import fetch_ucirepo\n",
    "import numpy as np\n",
    "import pandas as pd\n",
    "from sklearn.datasets import make_regression\n",
    "from sklearn.linear_model import LinearRegression\n",
    "import shap\n",
    "from cubist import Cubist\n",
    "\n",
    "# fetch dataset\n",
    "steel_industry_energy_consumption = fetch_ucirepo(id=851)"
   ],
   "metadata": {
    "id": "FE110O67ba3e",
    "executionInfo": {
     "status": "ok",
     "timestamp": 1718597548907,
     "user_tz": 300,
     "elapsed": 1073,
     "user": {
      "displayName": "Edward Rosales",
      "userId": "17827174956173946861"
     }
    },
    "ExecuteTime": {
     "end_time": "2024-06-17T23:32:51.037229Z",
     "start_time": "2024-06-17T23:32:48.133879Z"
    }
   },
   "execution_count": 3,
   "outputs": []
  },
  {
   "cell_type": "code",
   "source": [
    "df = pd.DataFrame(steel_industry_energy_consumption.data.original)"
   ],
   "metadata": {
    "id": "7yRmDZlycg9j",
    "executionInfo": {
     "status": "ok",
     "timestamp": 1718597548909,
     "user_tz": 300,
     "elapsed": 37,
     "user": {
      "displayName": "Edward Rosales",
      "userId": "17827174956173946861"
     }
    },
    "ExecuteTime": {
     "end_time": "2024-06-17T23:32:51.042943Z",
     "start_time": "2024-06-17T23:32:51.039008Z"
    }
   },
   "execution_count": 4,
   "outputs": []
  },
  {
   "cell_type": "code",
   "source": [
    "df['date'] = pd.to_datetime(df['date'], format='%d/%m/%Y %H:%M')"
   ],
   "metadata": {
    "id": "iiW1Wchzil1h",
    "executionInfo": {
     "status": "ok",
     "timestamp": 1718597548911,
     "user_tz": 300,
     "elapsed": 30,
     "user": {
      "displayName": "Edward Rosales",
      "userId": "17827174956173946861"
     }
    },
    "ExecuteTime": {
     "end_time": "2024-06-17T23:32:51.143919Z",
     "start_time": "2024-06-17T23:32:51.044413Z"
    }
   },
   "execution_count": 5,
   "outputs": []
  },
  {
   "cell_type": "code",
   "source": [
    "# Utilizamos One Hot Enconder para [\"Day_of_week\", \"Load_Type\"]  eliminando las columnas iniciales\n",
    "df = pd.get_dummies(df, columns=[\"Day_of_week\", \"Load_Type\"], drop_first=True)"
   ],
   "metadata": {
    "id": "CBz_o-sspA-G",
    "executionInfo": {
     "status": "ok",
     "timestamp": 1718597549493,
     "user_tz": 300,
     "elapsed": 37,
     "user": {
      "displayName": "Edward Rosales",
      "userId": "17827174956173946861"
     }
    },
    "ExecuteTime": {
     "end_time": "2024-06-17T23:32:51.161067Z",
     "start_time": "2024-06-17T23:32:51.145204Z"
    }
   },
   "execution_count": 6,
   "outputs": []
  },
  {
   "cell_type": "code",
   "source": [
    "# Visualizamos las columnas actuales del DataFrame\n",
    "# df.columns.to_list()"
   ],
   "metadata": {
    "colab": {
     "base_uri": "https://localhost:8080/"
    },
    "id": "VRGXMWN5erjT",
    "executionInfo": {
     "status": "ok",
     "timestamp": 1718597549493,
     "user_tz": 300,
     "elapsed": 36,
     "user": {
      "displayName": "Edward Rosales",
      "userId": "17827174956173946861"
     }
    },
    "outputId": "3a940e9f-a988-46de-df66-f90e4f1b66db",
    "ExecuteTime": {
     "end_time": "2024-06-17T23:32:51.167493Z",
     "start_time": "2024-06-17T23:32:51.164378Z"
    }
   },
   "execution_count": 7,
   "outputs": []
  },
  {
   "metadata": {
    "ExecuteTime": {
     "end_time": "2024-06-17T23:32:51.173104Z",
     "start_time": "2024-06-17T23:32:51.169216Z"
    }
   },
   "cell_type": "code",
   "source": [
    "# Crear nuevas columnas descomponiendo la fecha y hora en sus componentes\n",
    "# df['year'] = df['date'].dt.year\n",
    "# df['month'] = df['date'].dt.month\n",
    "# df['day'] = df['date'].dt.day\n",
    "# df['hour'] = df['date'].dt.hour\n",
    "# df['minute'] = df['date'].dt.minute\n",
    "# df['second'] = df['date'].dt.second\n",
    "# df['dayofweek'] = df['date'].dt.dayofweek  # Lunes=0, Domingo=6\n",
    "# df['dayofyear'] = df['date'].dt.dayofyear\n",
    "# df['weekofyear'] = df['date'].dt.isocalendar().week\n",
    "# df['quarter'] = df['date'].dt.quarter"
   ],
   "execution_count": 8,
   "outputs": []
  },
  {
   "cell_type": "code",
   "source": [
    "# Hacemos una diferenciación entre fines de semana y días hábiles\n",
    "df['IsWeekend'] = df['WeekStatus'] == 'Weekend'"
   ],
   "metadata": {
    "id": "q0l32PXZqORh",
    "executionInfo": {
     "status": "ok",
     "timestamp": 1718597549493,
     "user_tz": 300,
     "elapsed": 25,
     "user": {
      "displayName": "Edward Rosales",
      "userId": "17827174956173946861"
     }
    },
    "ExecuteTime": {
     "end_time": "2024-06-17T23:32:51.182401Z",
     "start_time": "2024-06-17T23:32:51.175133Z"
    }
   },
   "execution_count": 9,
   "outputs": []
  },
  {
   "cell_type": "code",
   "source": [
    "# Eliminamos Date porque según EDA la potencia tiene muy baja dependencia de la temporalidad\n",
    "# Eiminamos WeekStatus porque según EDA la potencia cambia entre día laboral y fin de semana\n",
    "df = df.drop(['date', 'WeekStatus'], axis=1)"
   ],
   "metadata": {
    "id": "fuYtwQhCrNac",
    "executionInfo": {
     "status": "ok",
     "timestamp": 1718597549495,
     "user_tz": 300,
     "elapsed": 24,
     "user": {
      "displayName": "Edward Rosales",
      "userId": "17827174956173946861"
     }
    },
    "ExecuteTime": {
     "end_time": "2024-06-17T23:32:51.189282Z",
     "start_time": "2024-06-17T23:32:51.183693Z"
    }
   },
   "execution_count": 10,
   "outputs": []
  },
  {
   "metadata": {
    "ExecuteTime": {
     "end_time": "2024-06-17T23:32:51.194562Z",
     "start_time": "2024-06-17T23:32:51.190425Z"
    }
   },
   "cell_type": "code",
   "source": "#df.dtypes",
   "execution_count": 11,
   "outputs": []
  },
  {
   "metadata": {
    "ExecuteTime": {
     "end_time": "2024-06-17T23:32:51.199875Z",
     "start_time": "2024-06-17T23:32:51.196382Z"
    }
   },
   "cell_type": "code",
   "source": "mlflow.set_tracking_uri(uri=\"http://localhost:5001\")",
   "execution_count": 12,
   "outputs": []
  },
  {
   "cell_type": "code",
   "source": [
    "# Definimos conjunto de entrenamiento y variable dependiente Y\n",
    "X = df\n",
    "X = df.drop('Usage_kWh', axis=1)\n",
    "y = df['Usage_kWh']"
   ],
   "metadata": {
    "id": "Ml6YGbYHeyMC",
    "executionInfo": {
     "status": "ok",
     "timestamp": 1718597549496,
     "user_tz": 300,
     "elapsed": 18,
     "user": {
      "displayName": "Edward Rosales",
      "userId": "17827174956173946861"
     }
    },
    "ExecuteTime": {
     "end_time": "2024-06-17T23:32:51.206581Z",
     "start_time": "2024-06-17T23:32:51.201021Z"
    }
   },
   "execution_count": 13,
   "outputs": []
  },
  {
   "metadata": {
    "ExecuteTime": {
     "end_time": "2024-06-17T23:32:51.252295Z",
     "start_time": "2024-06-17T23:32:51.207748Z"
    }
   },
   "cell_type": "code",
   "source": [
    "experiment_name = \"RegresionLineal_Kfolds\"\n",
    "experiment_id = mlflow.create_experiment(experiment_name) if not mlflow.get_experiment_by_name(experiment_name) else mlflow.get_experiment_by_name(experiment_name).experiment_id"
   ],
   "execution_count": 14,
   "outputs": []
  },
  {
   "metadata": {
    "ExecuteTime": {
     "end_time": "2024-06-17T23:32:51.257349Z",
     "start_time": "2024-06-17T23:32:51.253893Z"
    }
   },
   "cell_type": "code",
   "source": [
    "from sklearn.model_selection import train_test_split, KFold\n",
    "from sklearn.linear_model import LinearRegression\n",
    "from sklearn.metrics import mean_squared_error, mean_absolute_error, r2_score"
   ],
   "execution_count": 15,
   "outputs": []
  },
  {
   "metadata": {
    "ExecuteTime": {
     "end_time": "2024-06-17T23:32:55.310644Z",
     "start_time": "2024-06-17T23:32:51.258811Z"
    }
   },
   "cell_type": "code",
   "source": [
    "# Check if a run is already active\n",
    "if mlflow.active_run() is not None:\n",
    "    mlflow.end_run()\n",
    "with mlflow.start_run(experiment_id=experiment_id):\n",
    "\n",
    "    # Desarrollamos Regresión Lineal   \n",
    "    X_train, X_test, y_train, y_test = train_test_split(X, y, test_size=0.2, random_state=42)\n",
    "\n",
    "    # Convertir a matrices numpy si es necesario\n",
    "    if isinstance(X_train, pd.DataFrame):\n",
    "        X_train = X_train.values\n",
    "    if isinstance(X_test, pd.DataFrame):\n",
    "        X_test = X_test.values\n",
    "    if isinstance(y_train, pd.Series):\n",
    "        y_train = y_train.values\n",
    "    if isinstance(y_test, pd.Series):\n",
    "        y_test = y_test.values\n",
    "\n",
    "    # Crear el modelo de regresión lineal\n",
    "    model = LinearRegression()\n",
    "\n",
    "    # Realizar validación cruzada K-fold\n",
    "    kfold = KFold(n_splits=10, shuffle=True, random_state=42)  # Ajustar n_splits como se desee\n",
    "\n",
    "    mse_scores = []\n",
    "    mae_scores = []\n",
    "    r2_scores = []\n",
    "\n",
    "    for train_index, test_index in kfold.split(X_train):\n",
    "        X_kfold_train, X_kfold_test = X_train[train_index], X_train[test_index]\n",
    "        y_kfold_train, y_kfold_test = y_train[train_index], y_train[test_index]\n",
    "\n",
    "        model.fit(X_kfold_train, y_kfold_train)\n",
    "        y_pred = model.predict(X_kfold_test)\n",
    "\n",
    "        mse = mean_squared_error(y_kfold_test, y_pred)\n",
    "        mae = mean_absolute_error(y_kfold_test, y_pred)\n",
    "        r2 = r2_score(y_kfold_test, y_pred)\n",
    "\n",
    "        mse_scores.append(mse)\n",
    "        mae_scores.append(mae)\n",
    "        r2_scores.append(r2)\n",
    "\n",
    "    # Calcular promedios de las métricas K-fold\n",
    "    avg_mse = np.mean(mse_scores)\n",
    "    avg_mae = np.mean(mae_scores)\n",
    "    avg_r2 = np.mean(r2_scores)\n",
    "\n",
    "    # Registrar métricas promedio en MLflow\n",
    "    mlflow.log_param(\"kfolds\", 10)  # Registrar el valor de k\n",
    "    mlflow.log_metric(\"avg_mse\", avg_mse)\n",
    "    mlflow.log_metric(\"avg_mae\", avg_mae)\n",
    "    mlflow.log_metric(\"avg_r2\", avg_r2)\n",
    "\n",
    "    # Entrenar el modelo final en todo el conjunto de entrenamiento\n",
    "    model.fit(X_train, y_train)\n",
    "\n",
    "    # Evaluar el modelo final en el conjunto de prueba\n",
    "    y_pred = model.predict(X_test)\n",
    "\n",
    "    mse = mean_squared_error(y_test, y_pred)\n",
    "    rmse = np.sqrt(mse)\n",
    "    mae = mean_absolute_error(y_test, y_pred)\n",
    "    r2 = r2_score(y_test, y_pred)\n",
    "\n",
    "    print(f'Mean Squared Error (MSE): {mse}')\n",
    "    print(f'Root Mean Squared Error (RMSE): {rmse}')\n",
    "    print(f'Mean Absolute Error (MAE): {mae}')\n",
    "    print(f'R^2 Score: {r2}')\n",
    "\n",
    "    # Registrar métricas de evaluación final en MLflow\n",
    "    mlflow.log_metric(\"test_mse\", mse)\n",
    "    mlflow.log_metric(\"test_rmse\", rmse)\n",
    "    mlflow.log_metric(\"test_mae\", mae)\n",
    "    mlflow.log_metric(\"test_r2\", r2)\n",
    "\n",
    "    # (Opcional) Registrar el modelo final como artefacto\n",
    "    mlflow.sklearn.log_model(model, \"model\")"
   ],
   "execution_count": 16,
   "outputs": []
  },
  {
   "metadata": {},
   "cell_type": "markdown",
   "source": "# Agregamos modelos a utilizar, Arbol de Decisión, RandomForest, XGBoost Regressor"
  },
  {
   "metadata": {
    "ExecuteTime": {
     "end_time": "2024-06-17T23:40:40.837918Z",
     "start_time": "2024-06-17T23:40:40.823015Z"
    }
   },
   "cell_type": "code",
   "source": [
    "from sklearn.linear_model import LinearRegression\n",
    "from sklearn.tree import DecisionTreeRegressor\n",
    "from sklearn.ensemble import RandomForestRegressor"
   ],
   "execution_count": 18,
   "outputs": []
  },
  {
   "cell_type": "code",
   "source": [
    "from sklearn.ensemble import RandomForestRegressor\n",
    "import xgboost as xgb\n",
    "from cubist import Cubist\n",
    "from sklearn.metrics import mean_squared_error, mean_absolute_error, r2_score\n",
    "import numpy as np\n",
    "\n",
    "# Definir los modelos\n",
    "modelos = [\n",
    "    ('LinearRegression', LinearRegression()),\n",
    "    ('DecisionTreeRegressor', DecisionTreeRegressor(max_depth=2)),\n",
    "    ('RandomForestRegressor', RandomForestRegressor(min_samples_split=2, min_weight_fraction_leaf=0.0, n_estimators=40, n_jobs=-1, oob_score=True, random_state=None, verbose=0, warm_start=False)),\n",
    "    ('XGBRegressor', xgb.XGBRegressor(learning_rate=0.01, n_estimators=500, max_depth=5, eval_metric='rmsle'))\n",
    "]\n",
    "\n",
    "# Procedimiento para comparar los modelos\n",
    "for nombre, model in modelos:\n",
    "    experiment_name = nombre\n",
    "    experiment_id = mlflow.create_experiment(experiment_name) if not mlflow.get_experiment_by_name(experiment_name) else mlflow.get_experiment_by_name(experiment_name).experiment_id\n",
    "    with mlflow.start_run(experiment_id=experiment_id):\n",
    "        # Entrenar el modelo\n",
    "        model.fit(X_train, y_train)\n",
    "        y_pred = model.predict(X_test)\n",
    "\n",
    "        # Calcular las métricas\n",
    "        mse = mean_squared_error(y_test, y_pred)\n",
    "        rmse = np.sqrt(mse)\n",
    "        mae = mean_absolute_error(y_test, y_pred)\n",
    "        r2 = r2_score(y_test, y_pred)\n",
    "\n",
    "        # Registrar los parámetros y métricas en MLFlow\n",
    "        mlflow.log_param(\"model_name\", nombre)\n",
    "        mlflow.log_metric(\"mse\", mse)\n",
    "        mlflow.log_metric(\"rmse\", rmse)\n",
    "        mlflow.log_metric(\"mae\", mae)\n",
    "        mlflow.log_metric(\"r2\", r2)\n",
    "\n",
    "        # Registrar el modelo\n",
    "        mlflow.sklearn.log_model(model, \"model\")\n",
    "\n",
    "        print(f'{nombre},\" score: \",{model.score(X_test, y_pred):.03f}', end=\" \")\n",
    "        print(f'Mean Squared Error (MSE): {mse:.03f}', end=\" \")\n",
    "        print(f'Root Mean Squared Error (RMSE): {rmse:.03f}', end=\" \")\n",
    "        print(f'Mean Absolute Error (MAE): {mae:.03f}', end=\" \")\n",
    "        print(f'R^2 Score: {r2:.03f}', end=\" \")\n",
    "        print(\"\")"
   ],
   "metadata": {
    "colab": {
     "base_uri": "https://localhost:8080/"
    },
    "id": "oYEyCNFW1b58",
    "executionInfo": {
     "status": "ok",
     "timestamp": 1718597596224,
     "user_tz": 300,
     "elapsed": 46742,
     "user": {
      "displayName": "Edward Rosales",
      "userId": "17827174956173946861"
     }
    },
    "outputId": "9df3a58b-097e-4041-8481-b21b3f54818a",
    "ExecuteTime": {
     "end_time": "2024-06-17T23:42:05.042319Z",
     "start_time": "2024-06-17T23:40:41.237857Z"
    }
   },
   "execution_count": 19,
   "outputs": []
  },
  {
   "cell_type": "markdown",
   "source": "# Modelo CUBIST",
   "metadata": {
    "id": "2IrYgVLo_5Gr"
   }
  },
  {
   "metadata": {
    "ExecuteTime": {
     "end_time": "2024-06-17T23:42:30.168900Z",
     "start_time": "2024-06-17T23:42:05.045323Z"
    }
   },
   "cell_type": "code",
   "source": [
    "from cubist import Cubist\n",
    "\n",
    "X_train, X_test, y_train, y_test = train_test_split(X, y, test_size=0.2, random_state=42)\n",
    "\n",
    "# Definir el modelo CUBIST\n",
    "\n",
    "cubist_model = Cubist(n_rules=500, neighbors=None, unbiased=True, auto=False, extrapolation=0.1, n_committees=5)\n",
    "\n",
    "experiment_name = 'Cubist'\n",
    "experiment_id = mlflow.create_experiment(experiment_name) if not mlflow.get_experiment_by_name(experiment_name) else mlflow.get_experiment_by_name(experiment_name).experiment_id\n",
    "\n",
    "# Procedimiento para entrenar y evaluar el modelo CUBIST\n",
    "with mlflow.start_run(experiment_id=experiment_id):\n",
    "    # Entrenar el modelo\n",
    "    cubist_model.fit(X_train, y_train)\n",
    "    y_pred = cubist_model.predict(X_test)\n",
    "\n",
    "    # Calcular las métricas\n",
    "    mse = mean_squared_error(y_test, y_pred)\n",
    "    rmse = np.sqrt(mse)\n",
    "    mae = mean_absolute_error(y_test, y_pred)\n",
    "    r2 = r2_score(y_test, y_pred)\n",
    "\n",
    "    # Registrar los parámetros y métricas en MLFlow\n",
    "    mlflow.log_param(\"model_name\", experiment_name)\n",
    "    mlflow.log_metric(\"mse\", mse)\n",
    "    mlflow.log_metric(\"rmse\", rmse)\n",
    "    mlflow.log_metric(\"mae\", mae)\n",
    "    mlflow.log_metric(\"r2\", r2)\n",
    "\n",
    "    # Registrar el modelo\n",
    "    mlflow.sklearn.log_model(cubist_model, experiment_name)\n",
    "\n",
    "    # Imprimir los resultados\n",
    "    print(f'{experiment_name} score: {cubist_model.score(X_test, y_pred):.03f}', end=\" \")\n",
    "    print(f'Mean Squared Error (MSE): {mse:.03f}', end=\" \")\n",
    "    print(f'Root Mean Squared Error (RMSE): {rmse:.03f}', end=\" \")\n",
    "    print(f'Mean Absolute Error (MAE): {mae:.03f}', end=\" \")\n",
    "    print(f'R^2 Score: {r2:.03f}', end=\" \")\n",
    "    print(\"\")\n"
   ],
   "execution_count": 20,
   "outputs": []
  },
  {
   "metadata": {},
   "cell_type": "markdown",
   "source": [
    "# Buscamos mejores valores de hiperparámetros para los 2 modelos con mejores resultados, XGBRegressor y Cubist\n",
    "## 1. XGBRegressor"
   ]
  },
  {
   "cell_type": "code",
   "source": [
    "from pprint import pprint\n",
    "import numpy as np\n",
    "\n",
    "n_estimators = [int(x) for x in np.linspace(start = 200, stop = 2000, num = 10)]\n",
    "max_leaves = [0, 8, 10, 12, 16, 20]  # 0 equivale a 'no limit'\n",
    "max_depth = [int(x) for x in np.linspace(10, 110, num = 11)] + [None]\n",
    "\n",
    "\n",
    "random_grid = {'n_estimators': n_estimators,\n",
    "               'max_leaves': max_leaves,\n",
    "               'max_depth': max_depth}\n",
    "\n",
    "print('Los valores a probar en la búsqueda aleatoria son:')\n",
    "pprint(random_grid)\n",
    "\n",
    "print()\n",
    "print('El número total de combinaciones de parámetros de entrenamiento es',\n",
    "      len(random_grid['n_estimators']) *\n",
    "      len(random_grid['max_leaves']) *\n",
    "      len(random_grid['max_depth'])\n",
    "      )"
   ],
   "metadata": {
    "colab": {
     "base_uri": "https://localhost:8080/"
    },
    "id": "i0E3zffD_1P_",
    "executionInfo": {
     "status": "ok",
     "timestamp": 1718597596762,
     "user_tz": 300,
     "elapsed": 566,
     "user": {
      "displayName": "Edward Rosales",
      "userId": "17827174956173946861"
     }
    },
    "outputId": "32e61281-9d91-4a6e-d353-b02383bde485",
    "ExecuteTime": {
     "end_time": "2024-06-17T23:42:30.176406Z",
     "start_time": "2024-06-17T23:42:30.170135Z"
    }
   },
   "execution_count": 21,
   "outputs": []
  },
  {
   "cell_type": "markdown",
   "source": "## Usaremos la recomendación de busqueda con el 10%",
   "metadata": {
    "id": "b8fG8V8pBeMh"
   }
  },
  {
   "metadata": {
    "ExecuteTime": {
     "end_time": "2024-06-17T23:43:04.360358Z",
     "start_time": "2024-06-17T23:42:30.178639Z"
    }
   },
   "cell_type": "code",
   "source": [
    "import xgboost as xgb\n",
    "from sklearn.model_selection import RandomizedSearchCV\n",
    "\n",
    "# Definir el espacio de búsqueda aleatoria\n",
    "random_grid = {\n",
    "    'learning_rate': [0.01, 0.1, 0.2],\n",
    "    'n_estimators': [100, 200, 500],\n",
    "    'max_depth': [3, 4, 5, 6],\n",
    "    'min_child_weight': [1, 2, 3],\n",
    "    'subsample': [0.6, 0.8, 1.0],\n",
    "    'colsample_bytree': [0.6, 0.8, 1.0]\n",
    "}\n",
    "\n",
    "# Definir el modelo y la búsqueda aleatoria\n",
    "xgbb = xgb.XGBRegressor()\n",
    "xgb_random = RandomizedSearchCV(estimator=xgbb,\n",
    "                                param_distributions=random_grid,\n",
    "                                n_iter=20,\n",
    "                                cv=3,\n",
    "                                verbose=2,\n",
    "                                random_state=0,\n",
    "                                n_jobs=-1)\n",
    "\n",
    "# Crear o obtener el experimento en MLFlow\n",
    "model_name = 'XGBRegressor_RandomSearch'\n",
    "experiment_name = model_name\n",
    "experiment_id = mlflow.create_experiment(experiment_name) if not mlflow.get_experiment_by_name(experiment_name) else mlflow.get_experiment_by_name(experiment_name).experiment_id\n",
    "\n",
    "# Procedimiento para entrenar y evaluar el modelo XGBRegressor con búsqueda aleatoria\n",
    "with mlflow.start_run(experiment_id=experiment_id):\n",
    "    # Entrenar el modelo\n",
    "    xgb_random.fit(X_train, y_train)\n",
    "    best_model = xgb_random.best_estimator_\n",
    "    y_pred = best_model.predict(X_test)\n",
    "\n",
    "    # Calcular las métricas\n",
    "    mse = mean_squared_error(y_test, y_pred)\n",
    "    rmse = np.sqrt(mse)\n",
    "    mae = mean_absolute_error(y_test, y_pred)\n",
    "    r2 = r2_score(y_test, y_pred)\n",
    "\n",
    "    # Registrar los parámetros y métricas en MLFlow\n",
    "    mlflow.log_params(xgb_random.best_params_)\n",
    "    mlflow.log_metric(\"mse\", mse)\n",
    "    mlflow.log_metric(\"rmse\", rmse)\n",
    "    mlflow.log_metric(\"mae\", mae)\n",
    "    mlflow.log_metric(\"r2\", r2)\n",
    "\n",
    "    # Registrar el modelo\n",
    "    mlflow.sklearn.log_model(best_model, \"model\")\n",
    "\n",
    "    # Imprimir los resultados\n",
    "    print(f'{model_name} best score: {best_model.score(X_test, y_pred):.03f}', end=\" \")\n",
    "    print(f'Mean Squared Error (MSE): {mse:.03f}', end=\" \")\n",
    "    print(f'Root Mean Squared Error (RMSE): {rmse:.03f}', end=\" \")\n",
    "    print(f'Mean Absolute Error (MAE): {mae:.03f}', end=\" \")\n",
    "    print(f'R^2 Score: {r2:.03f}', end=\" \")\n",
    "    print(\"\")\n"
   ],
   "execution_count": 22,
   "outputs": []
  },
  {
   "cell_type": "code",
   "source": [
    "xgb_random_best = xgb_random.best_estimator_\n",
    "\n",
    "print('Los hiperparámetros del mejor modelo son:')\n",
    "pprint(xgb_random.best_params_)\n",
    "print()\n",
    "\n",
    "print('Exactitud luego de búsqueda aleatoria en entrenamiento:', xgb_random_best.score(X_train, y_train))\n",
    "print('Exactitud luego de búsqueda aleatoria en validación:', xgb_random_best.score(X_test, y_test))"
   ],
   "metadata": {
    "colab": {
     "base_uri": "https://localhost:8080/"
    },
    "id": "bdzsPOD3BoIb",
    "executionInfo": {
     "status": "ok",
     "timestamp": 1718597792798,
     "user_tz": 300,
     "elapsed": 508,
     "user": {
      "displayName": "Edward Rosales",
      "userId": "17827174956173946861"
     }
    },
    "outputId": "288aa26c-ac02-4ab2-ff06-6b377bdc2509",
    "ExecuteTime": {
     "end_time": "2024-06-17T23:43:04.469113Z",
     "start_time": "2024-06-17T23:43:04.361806Z"
    }
   },
   "execution_count": 23,
   "outputs": []
  },
  {
   "cell_type": "markdown",
   "source": "## 2. Búsqueda de hiperparámetros para el método Cubist",
   "metadata": {
    "id": "WkUiiqoYEqAl"
   }
  },
  {
   "metadata": {},
   "cell_type": "markdown",
   "source": "# Agregamos modelos a utilizar, Arbol de Decisión, RandomForest, XGBoost Regressor, CUBIST"
  },
  {
   "cell_type": "code",
   "source": [
    "from pprint import pprint\n",
    "import numpy as np\n",
    "\n",
    "###Hiperparámetros a considerar\n",
    "# n_rules (int, default=500)\n",
    "# n_committees (int, default=0):\n",
    "# neighbors (int, default=None)\n",
    "# extrapolation (float, default=0.05):\n",
    "\n",
    "n_rules = [int(x) for x in np.linspace(start = 200, stop = 1000, num = 10)]\n",
    "n_committees = [1, 2, 5, 10, 15]  # 5 es el recomendado en la documentación\n",
    "neighbors = [int(x) for x in np.linspace(1, 9, num = 1)]\n",
    "extrapolation = [0.01, 0.03, 0.05, 0.07, 0.09] #0,05 = 5% es el recomendado\n",
    "\n",
    "\n",
    "random_grid = {'n_rules': n_rules,\n",
    "               'n_committees': n_committees,\n",
    "               'neighbors': neighbors,\n",
    "               'extrapolation':extrapolation}\n",
    "\n",
    "print('Los valores a probar en la búsqueda aleatoria son:')\n",
    "pprint(random_grid)\n",
    "\n",
    "print()\n",
    "print('El número total de combinaciones de parámetros de entrenamiento es',\n",
    "      len(random_grid['n_rules']) *\n",
    "      len(random_grid['n_committees']) *\n",
    "      len(random_grid['neighbors']) *\n",
    "      len(random_grid['extrapolation'])\n",
    "      )"
   ],
   "metadata": {
    "colab": {
     "base_uri": "https://localhost:8080/"
    },
    "id": "PWyz-zddEr-4",
    "executionInfo": {
     "status": "ok",
     "timestamp": 1718597792799,
     "user_tz": 300,
     "elapsed": 13,
     "user": {
      "displayName": "Edward Rosales",
      "userId": "17827174956173946861"
     }
    },
    "outputId": "e309ab94-b7b0-4b7d-8311-f5e884a51a1f",
    "ExecuteTime": {
     "end_time": "2024-06-17T23:43:04.477030Z",
     "start_time": "2024-06-17T23:43:04.470326Z"
    }
   },
   "execution_count": 24,
   "outputs": []
  },
  {
   "metadata": {
    "ExecuteTime": {
     "end_time": "2024-06-17T23:43:51.882732Z",
     "start_time": "2024-06-17T23:43:04.478655Z"
    }
   },
   "cell_type": "code",
   "source": [
    "from cubist import Cubist\n",
    "\n",
    "# Definir el espacio de búsqueda aleatoria\n",
    "random_grid = {\n",
    "    'n_rules': [50, 100, 200, 500],\n",
    "    'neighbors': [0, 1, 5],\n",
    "    'unbiased': [True, False],\n",
    "    'extrapolation': [0.0, 0.1, 0.5],\n",
    "    'n_committees': [1, 3, 5, 10]\n",
    "}\n",
    "\n",
    "# Definir el modelo y la búsqueda aleatoria\n",
    "cbst = Cubist()\n",
    "cbst_random = RandomizedSearchCV(estimator=cbst,\n",
    "                                 param_distributions=random_grid,\n",
    "                                 n_iter=5,\n",
    "                                 cv=3,\n",
    "                                 verbose=2,\n",
    "                                 random_state=0,\n",
    "                                 n_jobs=-1)\n",
    "\n",
    "# Crear o obtener el experimento en MLFlow\n",
    "model_name = 'Cubist_10percent'\n",
    "experiment_name = model_name\n",
    "experiment_id = mlflow.create_experiment(experiment_name) if not mlflow.get_experiment_by_name(experiment_name) else mlflow.get_experiment_by_name(experiment_name).experiment_id\n",
    "\n",
    "# Procedimiento para entrenar y evaluar el modelo Cubist con búsqueda aleatoria\n",
    "with mlflow.start_run(experiment_id=experiment_id):\n",
    "    # Entrenar el modelo\n",
    "    cbst_random.fit(X_train, y_train)\n",
    "    best_model = cbst_random.best_estimator_\n",
    "    y_pred = best_model.predict(X_test)\n",
    "\n",
    "    # Calcular las métricas\n",
    "    mse = mean_squared_error(y_test, y_pred)\n",
    "    rmse = np.sqrt(mse)\n",
    "    mae = mean_absolute_error(y_test, y_pred)\n",
    "    r2 = r2_score(y_test, y_pred)\n",
    "\n",
    "    # Registrar los parámetros y métricas en MLFlow\n",
    "    mlflow.log_params(cbst_random.best_params_)\n",
    "    mlflow.log_metric(\"mse\", mse)\n",
    "    mlflow.log_metric(\"rmse\", rmse)\n",
    "    mlflow.log_metric(\"mae\", mae)\n",
    "    mlflow.log_metric(\"r2\", r2)\n",
    "\n",
    "    # Registrar el modelo\n",
    "    mlflow.sklearn.log_model(best_model, \"model\")\n",
    "\n",
    "    # Imprimir los resultados\n",
    "    print(f'{model_name} best score: {best_model.score(X_test, y_pred):.03f}', end=\" \")\n",
    "    print(f'Mean Squared Error (MSE): {mse:.03f}', end=\" \")\n",
    "    print(f'Root Mean Squared Error (RMSE): {rmse:.03f}', end=\" \")\n",
    "    print(f'Mean Absolute Error (MAE): {mae:.03f}', end=\" \")\n",
    "    print(f'R^2 Score: {r2:.03f}', end=\" \")\n",
    "    print(\"\")\n"
   ],
   "execution_count": 25,
   "outputs": []
  },
  {
   "cell_type": "code",
   "source": [
    "cbst_random_best = cbst_random.best_estimator_\n",
    "\n",
    "print('Los hiperparámetros del mejor modelo son:')\n",
    "pprint(cbst_random.best_params_)\n",
    "print()\n",
    "\n",
    "print('Exactitud luego de búsqueda aleatoria en entrenamiento:', cbst_random_best.score(X_train, y_train))\n",
    "print('Exactitud luego de búsqueda aleatoria en validación:', cbst_random_best.score(X_test, y_test))"
   ],
   "metadata": {
    "colab": {
     "base_uri": "https://localhost:8080/"
    },
    "id": "kwiNoHMUHD1K",
    "executionInfo": {
     "status": "ok",
     "timestamp": 1718600187286,
     "user_tz": 300,
     "elapsed": 22950,
     "user": {
      "displayName": "Edward Rosales",
      "userId": "17827174956173946861"
     }
    },
    "outputId": "29f840c0-6f2a-41de-9b79-b7053fbbc1c2",
    "ExecuteTime": {
     "end_time": "2024-06-17T23:43:56.470634Z",
     "start_time": "2024-06-17T23:43:51.883988Z"
    }
   },
   "execution_count": 26,
   "outputs": []
  },
  {
   "cell_type": "markdown",
   "source": [
    "## Uso de la librería OPTUNA para encontrar los mejores hiperparámetros\n",
    "\n",
    "Estimamos los mejores hiperparámetros usando la librería OPTUNA sugerida en el plantemiento del proyecto"
   ],
   "metadata": {
    "id": "ZXjgKgcTbseS"
   }
  },
  {
   "cell_type": "code",
   "source": [
    "import optuna\n",
    "import optuna.visualization as vis\n",
    "\n",
    "# Para trabajar con optuna, debemos definir la función objetivo que luego le diremos a optuna que debe minimizar (según nuestro indicador escogido RMSE)\n",
    "def objective(trial):\n",
    "  # Dejamos que optuna sugiera los hiperparámetros iniciales\n",
    "  n_rules = trial.suggest_int(\"n_rules\", 200, 1000)\n",
    "  n_committees = trial.suggest_int(\"n_committees\", 1, 15)\n",
    "  neighbors = trial.suggest_int(\"neighbors\", 1, 9)\n",
    "  extrapolation = trial.suggest_float(\"extrapolation\",0.01, 0.09)\n",
    "\n",
    "  #Definimos el modelo Cubist a utilizar para la optimización\n",
    "  cbst = Cubist(n_rules= n_rules, n_committees=n_committees, neighbors=neighbors, extrapolation=extrapolation)\n",
    "  cbst.fit(X_train, y_train)\n",
    "\n",
    "  # Make predictions and calculate RMSE\n",
    "  y_pred = model.predict(X_test)\n",
    "  rmse = np.sqrt(mean_squared_error(y_test, y_pred))\n",
    "  mae = mean_absolute_error(y_test, y_pred)\n",
    "  r2 = r2_score(y_test, y_pred)\n",
    "\n",
    "  # Return MAE\n",
    "  return mae"
   ],
   "metadata": {
    "id": "suRtgrxqY3ZH",
    "executionInfo": {
     "status": "ok",
     "timestamp": 1718603160395,
     "user_tz": 300,
     "elapsed": 415,
     "user": {
      "displayName": "Edward Rosales",
      "userId": "17827174956173946861"
     }
    },
    "ExecuteTime": {
     "end_time": "2024-06-17T23:43:56.532533Z",
     "start_time": "2024-06-17T23:43:56.471891Z"
    }
   },
   "execution_count": 27,
   "outputs": []
  },
  {
   "cell_type": "code",
   "source": [
    "# Creamos el \"objeto de estudio\", como llama Optuna\n",
    "study = optuna.create_study(direction=\"minimize\")\n",
    "\n",
    "# Ejecutamos el proceso en si de optimización, le pasamos la función objetivo definida en el paso previo\n",
    "study.optimize(objective, n_trials=10, show_progress_bar=True)"
   ],
   "metadata": {
    "colab": {
     "base_uri": "https://localhost:8080/",
     "height": 240,
     "referenced_widgets": [
      "19889302f879489ab38033228da16001",
      "24af2c1df7cd46cab2aa20cc0b097e0e",
      "2843d3bb2b8143a0ad0ce79c8a8079e8",
      "c62acd9b76854977a1f69083519d2e10",
      "e3a98af4517640d3bc9fb3704c53a550",
      "d6a4905b3cfc4b4195940f487a6223a4",
      "e187b2fd709b4d6f833fbd9a24560adf",
      "874a0a491dd34d1e9347c54af1d75024",
      "185f33111ab34563a8516a44b99c1c0b",
      "88eab0d5277d4715ad86f9fef4d0b0db",
      "565982672d614575bc5fc5a2064ace7b"
     ]
    },
    "id": "QXck-U6Ldo9O",
    "executionInfo": {
     "status": "ok",
     "timestamp": 1718600633874,
     "user_tz": 300,
     "elapsed": 438203,
     "user": {
      "displayName": "Edward Rosales",
      "userId": "17827174956173946861"
     }
    },
    "outputId": "c232afb6-87c9-43af-ded5-7b5cd1931b68",
    "ExecuteTime": {
     "end_time": "2024-06-17T23:47:22.097713Z",
     "start_time": "2024-06-17T23:43:56.534775Z"
    }
   },
   "execution_count": 28,
   "outputs": []
  },
  {
   "cell_type": "code",
   "source": [
    "# Imprimimos los resultados del estudio con optuna\n",
    "print(\"Best trial:\", study.best_trial)\n",
    "print(\"Best hyperparameters:\", study.best_params)"
   ],
   "metadata": {
    "colab": {
     "base_uri": "https://localhost:8080/"
    },
    "id": "b4WIOh7efs74",
    "executionInfo": {
     "status": "ok",
     "timestamp": 1718600765245,
     "user_tz": 300,
     "elapsed": 426,
     "user": {
      "displayName": "Edward Rosales",
      "userId": "17827174956173946861"
     }
    },
    "outputId": "e70ec934-c5c1-4924-a565-1515dbda1e02",
    "ExecuteTime": {
     "end_time": "2024-06-17T23:47:22.103884Z",
     "start_time": "2024-06-17T23:47:22.099473Z"
    }
   },
   "execution_count": 29,
   "outputs": []
  },
  {
   "cell_type": "code",
   "source": [
    "import plotly\n",
    "import plotly.io as pio\n",
    "\n",
    "import plotly.graph_objs as go\n",
    "fig = go.Figure(data=go.Bar(y=[2, 3, 1]))\n",
    "fig.show()\n",
    "#Utilizamos algunos gráficos utiles de la librería optuna\n",
    "# Plotear el historial de la optimización realizada\n",
    "vis.plot_optimization_history(study)\n",
    "\n",
    "# Plotear tipo 'slice'\n",
    "#vis.plot_slice(study, params=[\"n_rules\", \"n_committees\"])\n",
    "\n",
    "# Ploteo tipo 'contorno'\n",
    "#vis.plot_contour(study, params=[\"neighbors\", \"extrapolation\"])\n",
    "\n",
    "# Plotear parallel_coordinate\n",
    "vis.plot_parallel_coordinate(study)"
   ],
   "metadata": {
    "colab": {
     "base_uri": "https://localhost:8080/",
     "height": 542
    },
    "id": "gOJNWYGiuWey",
    "executionInfo": {
     "status": "ok",
     "timestamp": 1718603513118,
     "user_tz": 300,
     "elapsed": 365,
     "user": {
      "displayName": "Edward Rosales",
      "userId": "17827174956173946861"
     }
    },
    "outputId": "b86c3044-063f-4e2f-a4cc-19ff3fadc96f",
    "ExecuteTime": {
     "end_time": "2024-06-17T23:47:22.274415Z",
     "start_time": "2024-06-17T23:47:22.105222Z"
    }
   },
   "execution_count": 30,
   "outputs": []
  },
  {
   "cell_type": "code",
   "source": [
    "import plotly.graph_objs as go\n",
    "fig = go.Figure(data=go.Bar(y=[2, 3, 1]))\n",
    "fig.show()\n",
    "optuna.visualization.plot_optimization_history(study)"
   ],
   "metadata": {
    "colab": {
     "base_uri": "https://localhost:8080/",
     "height": 542
    },
    "id": "vVbJhEvKwKkA",
    "executionInfo": {
     "status": "ok",
     "timestamp": 1718603555245,
     "user_tz": 300,
     "elapsed": 607,
     "user": {
      "displayName": "Edward Rosales",
      "userId": "17827174956173946861"
     }
    },
    "outputId": "55948cf0-f82a-43c8-d2a1-bb97440ee394"
   },
   "execution_count": 31,
   "outputs": []
  }
 ]
}
