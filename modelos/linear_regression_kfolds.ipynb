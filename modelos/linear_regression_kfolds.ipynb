{
 "cells": [
  {
   "metadata": {
    "ExecuteTime": {
     "end_time": "2024-07-01T01:04:35.180290Z",
     "start_time": "2024-07-01T01:04:35.176842Z"
    }
   },
   "cell_type": "code",
   "source": [
    "import warnings\n",
    "warnings.filterwarnings('ignore')"
   ],
   "id": "4574bcfc3ed4250b",
   "outputs": [],
   "execution_count": 13
  },
  {
   "metadata": {
    "ExecuteTime": {
     "end_time": "2024-07-01T01:04:35.195430Z",
     "start_time": "2024-07-01T01:04:35.182040Z"
    }
   },
   "cell_type": "code",
   "source": [
    "from dotenv import load_dotenv\n",
    "import os\n",
    "\n",
    "# Cargar las variables de entorno desde el archivo .env\n",
    "load_dotenv()"
   ],
   "id": "6d0a3628c7a63f21",
   "outputs": [
    {
     "data": {
      "text/plain": [
       "True"
      ]
     },
     "execution_count": 14,
     "metadata": {},
     "output_type": "execute_result"
    }
   ],
   "execution_count": 14
  },
  {
   "metadata": {
    "ExecuteTime": {
     "end_time": "2024-07-01T01:04:35.201055Z",
     "start_time": "2024-07-01T01:04:35.197314Z"
    }
   },
   "cell_type": "code",
   "source": [
    "import mlflow\n",
    "from pathlib import Path\n",
    "from sklearn.model_selection import train_test_split, KFold\n",
    "from sklearn.compose import ColumnTransformer\n",
    "from sklearn.preprocessing import OneHotEncoder\n",
    "from sklearn.metrics import mean_squared_error, mean_absolute_error, r2_score\n",
    "from sklearn.pipeline import Pipeline\n",
    "#from ucimlrepo import fetch_ucirepo\n",
    "import numpy as np\n",
    "import pandas as pd\n",
    "from sklearn.linear_model import LinearRegression\n",
    "from sklearn.preprocessing import StandardScaler\n",
    "import matplotlib.pyplot as plt"
   ],
   "id": "initial_id",
   "outputs": [],
   "execution_count": 15
  },
  {
   "metadata": {
    "ExecuteTime": {
     "end_time": "2024-07-01T01:04:35.594317Z",
     "start_time": "2024-07-01T01:04:35.202438Z"
    }
   },
   "cell_type": "code",
   "source": [
    "# Obtener la URI de seguimiento de MLflow\n",
    "mlflow_tracking_uri = os.getenv(\"MLFLOW_TRACKING_URI\")\n",
    "\n",
    "if not mlflow_tracking_uri:\n",
    "    # Preguntar al usuario por la dirección si no se encuentra la variable de entorno\n",
    "    mlflow_tracking_uri = input(\"Ingrese la dirección de MLflow: \")\n",
    "\n",
    "# Configurar la URI de seguimiento de MLflow\n",
    "mlflow.set_tracking_uri(mlflow_tracking_uri)\n",
    "\n",
    "experiment_name = \"Regresion_Lineal_kfolds\"\n",
    "experiment_id = mlflow.create_experiment(experiment_name) if not mlflow.get_experiment_by_name(experiment_name) else mlflow.get_experiment_by_name(experiment_name).experiment_id"
   ],
   "id": "1bee1789fec1dd22",
   "outputs": [],
   "execution_count": 16
  },
  {
   "metadata": {
    "ExecuteTime": {
     "end_time": "2024-07-01T01:04:35.647708Z",
     "start_time": "2024-07-01T01:04:35.596763Z"
    }
   },
   "cell_type": "code",
   "source": [
    "try:\n",
    "    # Intentar leer el archivo localmente\n",
    "    data = pd.read_csv('../data/Steel_industry_data.csv')\n",
    "except FileNotFoundError:\n",
    "    # Si no se encuentra, leer desde la URL\n",
    "    data = pd.read_csv('https://raw.githubusercontent.com/luis-huacho/INF648-Proy-Curso-2024-01/main/data/Steel_industry_data.csv')\n",
    "\n",
    "# Seleccionar las columnas para la regresión\n",
    "features = data.drop(columns=['date', 'Usage_kWh'])\n",
    "target = data['Usage_kWh']"
   ],
   "id": "90bd283d5322bb4b",
   "outputs": [],
   "execution_count": 17
  },
  {
   "metadata": {
    "ExecuteTime": {
     "end_time": "2024-07-01T01:04:35.653104Z",
     "start_time": "2024-07-01T01:04:35.649246Z"
    }
   },
   "cell_type": "code",
   "source": [
    "# Define K-Folds cross-validator\n",
    "kf = KFold(n_splits=10, shuffle=True, random_state=42)\n",
    "\n",
    "mse_scores = []\n",
    "rmse_scores = []\n",
    "mae_scores = []\n",
    "r2_scores = []"
   ],
   "id": "780f0e9beaf5e3d1",
   "outputs": [],
   "execution_count": 18
  },
  {
   "metadata": {
    "ExecuteTime": {
     "end_time": "2024-07-01T01:04:41.198264Z",
     "start_time": "2024-07-01T01:04:35.654515Z"
    }
   },
   "cell_type": "code",
   "source": [
    "with mlflow.start_run(experiment_id=experiment_id):\n",
    "    fold = 1\n",
    "    \n",
    "    # Codificación de variables categóricas\n",
    "    categorical_features = ['WeekStatus', 'Day_of_week', 'Load_Type']\n",
    "    numerical_features = features.drop(columns=categorical_features).columns.tolist()\n",
    "    \n",
    "    preprocessor = ColumnTransformer(\n",
    "        transformers=[\n",
    "            ('num', StandardScaler(), numerical_features),\n",
    "            ('cat', OneHotEncoder(), categorical_features)\n",
    "        ]\n",
    "    )\n",
    "    \n",
    "    # Crear el modelo de regresión lineal\n",
    "    model = Pipeline(steps=[('preprocessor', preprocessor),\n",
    "                            ('regressor', LinearRegression())])    \n",
    "    \n",
    "    for train_index, test_index in kf.split(features):\n",
    "        X_train, X_test = features.iloc[train_index], features.iloc[test_index]\n",
    "        y_train, y_test = target.iloc[train_index], target.iloc[test_index]\n",
    "        \n",
    "        # Train the model\n",
    "        model.fit(X_train, y_train)\n",
    "        \n",
    "        # Make predictions\n",
    "        y_pred = model.predict(X_test)\n",
    "        \n",
    "        # Evaluate the model\n",
    "        mse = mean_squared_error(y_test, y_pred)\n",
    "        rmse = np.sqrt(mse)\n",
    "        mae = mean_absolute_error(y_test, y_pred)\n",
    "        r2 = r2_score(y_test, y_pred)\n",
    "        \n",
    "        mse_scores.append(mse)\n",
    "        rmse_scores.append(rmse)\n",
    "        mae_scores.append(mae)\n",
    "        r2_scores.append(r2)\n",
    "\n",
    "        print(f'Fold {fold} - MSE: {mse}, RMSE: {rmse}, MAE: {mae}, R^2: {r2}')\n",
    "        fold += 1\n",
    "    \n",
    "    # Log average metrics\n",
    "    avg_mse = np.mean(mse_scores)\n",
    "    avg_rmse = np.mean(rmse_scores)\n",
    "    avg_mae = np.mean(mae_scores)\n",
    "    avg_r2 = np.mean(r2_scores)\n",
    "    \n",
    "    mlflow.log_metric(\"avg_mse\", avg_mse)\n",
    "    mlflow.log_metric(\"avg_rmse\", avg_rmse)\n",
    "    mlflow.log_metric(\"avg_mae\", avg_mae)\n",
    "    mlflow.log_metric(\"avg_r2\", avg_r2)\n",
    "\n",
    "    print(f'Average MSE: {avg_mse}')\n",
    "    print(f'Average RMSE: {avg_rmse}')\n",
    "    print(f'Average MAE: {avg_mae}')\n",
    "    print(f'Average R^2: {avg_r2}')\n",
    "    \n",
    "    # Registrar el modelo en MLflow\n",
    "    mlflow.sklearn.log_model(model, \"model\")\n",
    "    "
   ],
   "id": "d2860613664271a",
   "outputs": [
    {
     "name": "stdout",
     "output_type": "stream",
     "text": [
      "Fold 1 - MSE: 16.699073155321486, RMSE: 4.086449945285208, MAE: 2.487211388016378, R^2: 0.984983701232431\n",
      "Fold 2 - MSE: 18.833468377574235, RMSE: 4.339754414431102, MAE: 2.551191325777752, R^2: 0.9837753118536117\n",
      "Fold 3 - MSE: 17.18133229032909, RMSE: 4.145037067425223, MAE: 2.516997518070979, R^2: 0.9842889174634526\n",
      "Fold 4 - MSE: 17.06693528455332, RMSE: 4.13121474684545, MAE: 2.5212179389262293, R^2: 0.9839989105302397\n",
      "Fold 5 - MSE: 19.656645695598208, RMSE: 4.4335815877908695, MAE: 2.490021189595309, R^2: 0.9823200781448927\n",
      "Fold 6 - MSE: 24.87656308095128, RMSE: 4.987641033690304, MAE: 2.570114742360749, R^2: 0.9771397537741978\n",
      "Fold 7 - MSE: 20.13255193703475, RMSE: 4.486931238277978, MAE: 2.588438843931701, R^2: 0.9823490777124343\n",
      "Fold 8 - MSE: 26.295006798571883, RMSE: 5.127865715731242, MAE: 2.5366558538922894, R^2: 0.9767474364869506\n",
      "Fold 9 - MSE: 24.38545978854658, RMSE: 4.938163604878496, MAE: 2.6441980188062457, R^2: 0.978629304338117\n",
      "Fold 10 - MSE: 34.51590705999244, RMSE: 5.875024005056698, MAE: 2.6973119687920417, R^2: 0.9696274567569952\n",
      "Average MSE: 21.96429434684733\n",
      "Average RMSE: 4.655166335941257\n",
      "Average MAE: 2.5603358788169674\n",
      "Average R^2: 0.9803859948293324\n"
     ]
    }
   ],
   "execution_count": 19
  },
  {
   "metadata": {
    "ExecuteTime": {
     "end_time": "2024-07-01T01:04:41.202936Z",
     "start_time": "2024-07-01T01:04:41.199680Z"
    }
   },
   "cell_type": "code",
   "source": [
    "# Obtener los coeficientes y el intercepto del modelo escalado\n",
    "coefficients = model.named_steps['regressor'].coef_\n",
    "intercept = model.named_steps['regressor'].intercept_"
   ],
   "id": "4a4a5ceb2d6dff9f",
   "outputs": [],
   "execution_count": 20
  },
  {
   "metadata": {
    "ExecuteTime": {
     "end_time": "2024-07-01T01:04:41.221322Z",
     "start_time": "2024-07-01T01:04:41.204291Z"
    }
   },
   "cell_type": "code",
   "source": [
    "# Obtener los nombres de las características después del procesamiento\n",
    "feature_names = numerical_features + list(model.named_steps['preprocessor'].named_transformers_['cat'].get_feature_names_out(categorical_features))\n",
    "print(feature_names)"
   ],
   "id": "eb3f2a0ac66c9fff",
   "outputs": [
    {
     "name": "stdout",
     "output_type": "stream",
     "text": [
      "['Lagging_Current_Reactive.Power_kVarh', 'Leading_Current_Reactive_Power_kVarh', 'CO2(tCO2)', 'Lagging_Current_Power_Factor', 'Leading_Current_Power_Factor', 'NSM', 'WeekStatus_Weekday', 'WeekStatus_Weekend', 'Day_of_week_Friday', 'Day_of_week_Monday', 'Day_of_week_Saturday', 'Day_of_week_Sunday', 'Day_of_week_Thursday', 'Day_of_week_Tuesday', 'Day_of_week_Wednesday', 'Load_Type_Light_Load', 'Load_Type_Maximum_Load', 'Load_Type_Medium_Load']\n"
     ]
    }
   ],
   "execution_count": 21
  },
  {
   "metadata": {
    "ExecuteTime": {
     "end_time": "2024-07-01T01:04:41.231035Z",
     "start_time": "2024-07-01T01:04:41.222895Z"
    }
   },
   "cell_type": "code",
   "source": [
    "df = pd.DataFrame(list(zip(feature_names, coefficients)), columns=['Feature', 'Coefficient'])\n",
    "df "
   ],
   "id": "43e3823c4714e4ee",
   "outputs": [
    {
     "data": {
      "text/plain": [
       "                                 Feature  Coefficient\n",
       "0   Lagging_Current_Reactive.Power_kVarh     4.674904\n",
       "1   Leading_Current_Reactive_Power_kVarh     0.535364\n",
       "2                              CO2(tCO2)    27.341795\n",
       "3           Lagging_Current_Power_Factor     2.034907\n",
       "4           Leading_Current_Power_Factor     1.660270\n",
       "5                                    NSM    -0.072886\n",
       "6                     WeekStatus_Weekday     0.000508\n",
       "7                     WeekStatus_Weekend    -0.000508\n",
       "8                     Day_of_week_Friday    -0.106823\n",
       "9                     Day_of_week_Monday    -0.090720\n",
       "10                  Day_of_week_Saturday    -0.121518\n",
       "11                    Day_of_week_Sunday     0.121010\n",
       "12                  Day_of_week_Thursday    -0.221716\n",
       "13                   Day_of_week_Tuesday     0.462202\n",
       "14                 Day_of_week_Wednesday    -0.042435\n",
       "15                  Load_Type_Light_Load    -0.945136\n",
       "16                Load_Type_Maximum_Load     0.294323\n",
       "17                 Load_Type_Medium_Load     0.650814"
      ],
      "text/html": [
       "<div>\n",
       "<style scoped>\n",
       "    .dataframe tbody tr th:only-of-type {\n",
       "        vertical-align: middle;\n",
       "    }\n",
       "\n",
       "    .dataframe tbody tr th {\n",
       "        vertical-align: top;\n",
       "    }\n",
       "\n",
       "    .dataframe thead th {\n",
       "        text-align: right;\n",
       "    }\n",
       "</style>\n",
       "<table border=\"1\" class=\"dataframe\">\n",
       "  <thead>\n",
       "    <tr style=\"text-align: right;\">\n",
       "      <th></th>\n",
       "      <th>Feature</th>\n",
       "      <th>Coefficient</th>\n",
       "    </tr>\n",
       "  </thead>\n",
       "  <tbody>\n",
       "    <tr>\n",
       "      <th>0</th>\n",
       "      <td>Lagging_Current_Reactive.Power_kVarh</td>\n",
       "      <td>4.674904</td>\n",
       "    </tr>\n",
       "    <tr>\n",
       "      <th>1</th>\n",
       "      <td>Leading_Current_Reactive_Power_kVarh</td>\n",
       "      <td>0.535364</td>\n",
       "    </tr>\n",
       "    <tr>\n",
       "      <th>2</th>\n",
       "      <td>CO2(tCO2)</td>\n",
       "      <td>27.341795</td>\n",
       "    </tr>\n",
       "    <tr>\n",
       "      <th>3</th>\n",
       "      <td>Lagging_Current_Power_Factor</td>\n",
       "      <td>2.034907</td>\n",
       "    </tr>\n",
       "    <tr>\n",
       "      <th>4</th>\n",
       "      <td>Leading_Current_Power_Factor</td>\n",
       "      <td>1.660270</td>\n",
       "    </tr>\n",
       "    <tr>\n",
       "      <th>5</th>\n",
       "      <td>NSM</td>\n",
       "      <td>-0.072886</td>\n",
       "    </tr>\n",
       "    <tr>\n",
       "      <th>6</th>\n",
       "      <td>WeekStatus_Weekday</td>\n",
       "      <td>0.000508</td>\n",
       "    </tr>\n",
       "    <tr>\n",
       "      <th>7</th>\n",
       "      <td>WeekStatus_Weekend</td>\n",
       "      <td>-0.000508</td>\n",
       "    </tr>\n",
       "    <tr>\n",
       "      <th>8</th>\n",
       "      <td>Day_of_week_Friday</td>\n",
       "      <td>-0.106823</td>\n",
       "    </tr>\n",
       "    <tr>\n",
       "      <th>9</th>\n",
       "      <td>Day_of_week_Monday</td>\n",
       "      <td>-0.090720</td>\n",
       "    </tr>\n",
       "    <tr>\n",
       "      <th>10</th>\n",
       "      <td>Day_of_week_Saturday</td>\n",
       "      <td>-0.121518</td>\n",
       "    </tr>\n",
       "    <tr>\n",
       "      <th>11</th>\n",
       "      <td>Day_of_week_Sunday</td>\n",
       "      <td>0.121010</td>\n",
       "    </tr>\n",
       "    <tr>\n",
       "      <th>12</th>\n",
       "      <td>Day_of_week_Thursday</td>\n",
       "      <td>-0.221716</td>\n",
       "    </tr>\n",
       "    <tr>\n",
       "      <th>13</th>\n",
       "      <td>Day_of_week_Tuesday</td>\n",
       "      <td>0.462202</td>\n",
       "    </tr>\n",
       "    <tr>\n",
       "      <th>14</th>\n",
       "      <td>Day_of_week_Wednesday</td>\n",
       "      <td>-0.042435</td>\n",
       "    </tr>\n",
       "    <tr>\n",
       "      <th>15</th>\n",
       "      <td>Load_Type_Light_Load</td>\n",
       "      <td>-0.945136</td>\n",
       "    </tr>\n",
       "    <tr>\n",
       "      <th>16</th>\n",
       "      <td>Load_Type_Maximum_Load</td>\n",
       "      <td>0.294323</td>\n",
       "    </tr>\n",
       "    <tr>\n",
       "      <th>17</th>\n",
       "      <td>Load_Type_Medium_Load</td>\n",
       "      <td>0.650814</td>\n",
       "    </tr>\n",
       "  </tbody>\n",
       "</table>\n",
       "</div>"
      ]
     },
     "execution_count": 22,
     "metadata": {},
     "output_type": "execute_result"
    }
   ],
   "execution_count": 22
  },
  {
   "metadata": {
    "ExecuteTime": {
     "end_time": "2024-07-01T01:04:41.237450Z",
     "start_time": "2024-07-01T01:04:41.233441Z"
    }
   },
   "cell_type": "code",
   "source": [
    "# Imprimir la ecuación lineal\n",
    "equation = f'y = {intercept:.2f} ' # Intercepto\n",
    "for coef, name in zip(coefficients, feature_names):\n",
    "    equation += f'+ ({coef:.2f} * {name}) '\n",
    "\n",
    "print(\"Ecuación lineal del modelo:\")\n",
    "print(equation)"
   ],
   "id": "44ba40801f270717",
   "outputs": [
    {
     "name": "stdout",
     "output_type": "stream",
     "text": [
      "Ecuación lineal del modelo:\n",
      "y = 27.57 + (4.67 * Lagging_Current_Reactive.Power_kVarh) + (0.54 * Leading_Current_Reactive_Power_kVarh) + (27.34 * CO2(tCO2)) + (2.03 * Lagging_Current_Power_Factor) + (1.66 * Leading_Current_Power_Factor) + (-0.07 * NSM) + (0.00 * WeekStatus_Weekday) + (-0.00 * WeekStatus_Weekend) + (-0.11 * Day_of_week_Friday) + (-0.09 * Day_of_week_Monday) + (-0.12 * Day_of_week_Saturday) + (0.12 * Day_of_week_Sunday) + (-0.22 * Day_of_week_Thursday) + (0.46 * Day_of_week_Tuesday) + (-0.04 * Day_of_week_Wednesday) + (-0.95 * Load_Type_Light_Load) + (0.29 * Load_Type_Maximum_Load) + (0.65 * Load_Type_Medium_Load) \n"
     ]
    }
   ],
   "execution_count": 23
  },
  {
   "metadata": {
    "ExecuteTime": {
     "end_time": "2024-07-01T01:04:41.367079Z",
     "start_time": "2024-07-01T01:04:41.238906Z"
    }
   },
   "cell_type": "code",
   "source": [
    "# Crear un gráfico de dispersión de las predicciones con el modelo escalado\n",
    "plt.figure(figsize=(8, 6))\n",
    "plt.scatter(y_test, y_pred, alpha=0.5)\n",
    "plt.xlabel('Actual Usage_kWh')\n",
    "plt.ylabel('Predicted Usage_kWh (Scaled Model)')\n",
    "plt.title('Scatter Plot of Actual vs. Predicted Usage_kWh (Scaled Model)')\n",
    "plt.plot([y_test.min(), y_test.max()], [y_test.min(), y_test.max()], 'k--', lw=2)\n",
    "plt.show()\n"
   ],
   "id": "48fba5b422d89f3d",
   "outputs": [
    {
     "data": {
      "text/plain": [
       "<Figure size 800x600 with 1 Axes>"
      ],
      "image/png": "[encoded data removed]"
     },
     "metadata": {},
     "output_type": "display_data"
    }
   ],
   "execution_count": 24
  }
 ],
 "metadata": {
  "kernelspec": {
   "display_name": "Python 3",
   "language": "python",
   "name": "python3"
  },
  "language_info": {
   "codemirror_mode": {
    "name": "ipython",
    "version": 2
   },
   "file_extension": ".py",
   "mimetype": "text/x-python",
   "name": "python",
   "nbconvert_exporter": "python",
   "pygments_lexer": "ipython2",
   "version": "2.7.6"
  }
 },
 "nbformat": 4,
 "nbformat_minor": 5
}
