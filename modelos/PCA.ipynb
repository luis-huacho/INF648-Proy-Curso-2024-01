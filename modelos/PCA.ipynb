{
 "cells": [
  {
   "metadata": {
    "ExecuteTime": {
     "end_time": "2024-07-08T21:36:17.155711Z",
     "start_time": "2024-07-08T21:36:17.153612Z"
    }
   },
   "cell_type": "code",
   "source": [
    "import numpy as np\n",
    "import pandas as pd\n",
    "import matplotlib.pyplot as plt"
   ],
   "id": "initial_id",
   "outputs": [],
   "execution_count": 1
  },
  {
   "metadata": {
    "ExecuteTime": {
     "end_time": "2024-07-08T21:36:17.215161Z",
     "start_time": "2024-07-08T21:36:17.156646Z"
    }
   },
   "cell_type": "code",
   "source": [
    "try:\n",
    "    # Intentar leer el archivo localmente\n",
    "    data = pd.read_csv('../data/Steel_industry_data.csv')\n",
    "except FileNotFoundError:\n",
    "    # Si no se encuentra, leer desde la URL\n",
    "    data = pd.read_csv('https://raw.githubusercontent.com/luis-huacho/INF648-Proy-Curso-2024-01/main/data/Steel_industry_data.csv')\n",
    "\n",
    "# Seleccionar las columnas para la regresión\n",
    "features = data.drop(columns=['date', 'Usage_kWh'])\n",
    "target = data['Usage_kWh']"
   ],
   "id": "90bd283d5322bb4b",
   "outputs": [],
   "execution_count": 2
  },
  {
   "metadata": {
    "ExecuteTime": {
     "end_time": "2024-07-08T21:36:17.220652Z",
     "start_time": "2024-07-08T21:36:17.216430Z"
    }
   },
   "cell_type": "code",
   "source": "categorical_features = features[['WeekStatus', 'Day_of_week', 'Load_Type']]",
   "id": "e43bc12ced63c155",
   "outputs": [],
   "execution_count": 3
  },
  {
   "metadata": {
    "ExecuteTime": {
     "end_time": "2024-07-08T21:36:17.227240Z",
     "start_time": "2024-07-08T21:36:17.221976Z"
    }
   },
   "cell_type": "code",
   "source": "numerical_features = features.drop(columns=categorical_features)",
   "id": "d86724db181b6e04",
   "outputs": [],
   "execution_count": 4
  },
  {
   "metadata": {
    "ExecuteTime": {
     "end_time": "2024-07-08T21:36:17.238689Z",
     "start_time": "2024-07-08T21:36:17.228307Z"
    }
   },
   "cell_type": "code",
   "source": "numerical_features.head(n=3)",
   "id": "bc04ce393ea3b495",
   "outputs": [
    {
     "data": {
      "text/plain": [
       "   Lagging_Current_Reactive.Power_kVarh  Leading_Current_Reactive_Power_kVarh  \\\n",
       "0                                  2.95                                   0.0   \n",
       "1                                  4.46                                   0.0   \n",
       "2                                  3.28                                   0.0   \n",
       "\n",
       "   CO2(tCO2)  Lagging_Current_Power_Factor  Leading_Current_Power_Factor   NSM  \n",
       "0        0.0                         73.21                         100.0   900  \n",
       "1        0.0                         66.77                         100.0  1800  \n",
       "2        0.0                         70.28                         100.0  2700  "
      ],
      "text/html": [
       "<div>\n",
       "<style scoped>\n",
       "    .dataframe tbody tr th:only-of-type {\n",
       "        vertical-align: middle;\n",
       "    }\n",
       "\n",
       "    .dataframe tbody tr th {\n",
       "        vertical-align: top;\n",
       "    }\n",
       "\n",
       "    .dataframe thead th {\n",
       "        text-align: right;\n",
       "    }\n",
       "</style>\n",
       "<table border=\"1\" class=\"dataframe\">\n",
       "  <thead>\n",
       "    <tr style=\"text-align: right;\">\n",
       "      <th></th>\n",
       "      <th>Lagging_Current_Reactive.Power_kVarh</th>\n",
       "      <th>Leading_Current_Reactive_Power_kVarh</th>\n",
       "      <th>CO2(tCO2)</th>\n",
       "      <th>Lagging_Current_Power_Factor</th>\n",
       "      <th>Leading_Current_Power_Factor</th>\n",
       "      <th>NSM</th>\n",
       "    </tr>\n",
       "  </thead>\n",
       "  <tbody>\n",
       "    <tr>\n",
       "      <th>0</th>\n",
       "      <td>2.95</td>\n",
       "      <td>0.0</td>\n",
       "      <td>0.0</td>\n",
       "      <td>73.21</td>\n",
       "      <td>100.0</td>\n",
       "      <td>900</td>\n",
       "    </tr>\n",
       "    <tr>\n",
       "      <th>1</th>\n",
       "      <td>4.46</td>\n",
       "      <td>0.0</td>\n",
       "      <td>0.0</td>\n",
       "      <td>66.77</td>\n",
       "      <td>100.0</td>\n",
       "      <td>1800</td>\n",
       "    </tr>\n",
       "    <tr>\n",
       "      <th>2</th>\n",
       "      <td>3.28</td>\n",
       "      <td>0.0</td>\n",
       "      <td>0.0</td>\n",
       "      <td>70.28</td>\n",
       "      <td>100.0</td>\n",
       "      <td>2700</td>\n",
       "    </tr>\n",
       "  </tbody>\n",
       "</table>\n",
       "</div>"
      ]
     },
     "execution_count": 5,
     "metadata": {},
     "output_type": "execute_result"
    }
   ],
   "execution_count": 5
  },
  {
   "metadata": {
    "ExecuteTime": {
     "end_time": "2024-07-08T21:36:17.250699Z",
     "start_time": "2024-07-08T21:36:17.239772Z"
    }
   },
   "cell_type": "code",
   "source": "X_categorical = pd.get_dummies(categorical_features, columns=[\"Day_of_week\", \"Load_Type\", \"WeekStatus\"], drop_first=False)",
   "id": "82d74d92dd263cd",
   "outputs": [],
   "execution_count": 6
  },
  {
   "metadata": {
    "ExecuteTime": {
     "end_time": "2024-07-08T21:36:17.321309Z",
     "start_time": "2024-07-08T21:36:17.252013Z"
    }
   },
   "cell_type": "code",
   "source": [
    "from sklearn.preprocessing import StandardScaler\n",
    "scaler = StandardScaler()\n",
    "X_numerical = scaler.fit_transform(numerical_features)\n",
    "X_numerical_ = pd.DataFrame(X_numerical, columns=numerical_features.columns)"
   ],
   "id": "f9050ca65323f181",
   "outputs": [],
   "execution_count": 7
  },
  {
   "metadata": {
    "ExecuteTime": {
     "end_time": "2024-07-08T21:36:17.329283Z",
     "start_time": "2024-07-08T21:36:17.322320Z"
    }
   },
   "cell_type": "code",
   "source": "X_numerical_.head(n=3)",
   "id": "b5c20362fe323303",
   "outputs": [
    {
     "data": {
      "text/plain": [
       "   Lagging_Current_Reactive.Power_kVarh  Leading_Current_Reactive_Power_kVarh  \\\n",
       "0                             -0.618516                             -0.521385   \n",
       "1                             -0.525911                             -0.521385   \n",
       "2                             -0.598278                             -0.521385   \n",
       "\n",
       "   CO2(tCO2)  Lagging_Current_Power_Factor  Leading_Current_Power_Factor  \\\n",
       "0   -0.71355                     -0.389410                      0.513268   \n",
       "1   -0.71355                     -0.729772                      0.513268   \n",
       "2   -0.71355                     -0.544264                      0.513268   \n",
       "\n",
       "        NSM  \n",
       "0 -1.678015  \n",
       "1 -1.641929  \n",
       "2 -1.605843  "
      ],
      "text/html": [
       "<div>\n",
       "<style scoped>\n",
       "    .dataframe tbody tr th:only-of-type {\n",
       "        vertical-align: middle;\n",
       "    }\n",
       "\n",
       "    .dataframe tbody tr th {\n",
       "        vertical-align: top;\n",
       "    }\n",
       "\n",
       "    .dataframe thead th {\n",
       "        text-align: right;\n",
       "    }\n",
       "</style>\n",
       "<table border=\"1\" class=\"dataframe\">\n",
       "  <thead>\n",
       "    <tr style=\"text-align: right;\">\n",
       "      <th></th>\n",
       "      <th>Lagging_Current_Reactive.Power_kVarh</th>\n",
       "      <th>Leading_Current_Reactive_Power_kVarh</th>\n",
       "      <th>CO2(tCO2)</th>\n",
       "      <th>Lagging_Current_Power_Factor</th>\n",
       "      <th>Leading_Current_Power_Factor</th>\n",
       "      <th>NSM</th>\n",
       "    </tr>\n",
       "  </thead>\n",
       "  <tbody>\n",
       "    <tr>\n",
       "      <th>0</th>\n",
       "      <td>-0.618516</td>\n",
       "      <td>-0.521385</td>\n",
       "      <td>-0.71355</td>\n",
       "      <td>-0.389410</td>\n",
       "      <td>0.513268</td>\n",
       "      <td>-1.678015</td>\n",
       "    </tr>\n",
       "    <tr>\n",
       "      <th>1</th>\n",
       "      <td>-0.525911</td>\n",
       "      <td>-0.521385</td>\n",
       "      <td>-0.71355</td>\n",
       "      <td>-0.729772</td>\n",
       "      <td>0.513268</td>\n",
       "      <td>-1.641929</td>\n",
       "    </tr>\n",
       "    <tr>\n",
       "      <th>2</th>\n",
       "      <td>-0.598278</td>\n",
       "      <td>-0.521385</td>\n",
       "      <td>-0.71355</td>\n",
       "      <td>-0.544264</td>\n",
       "      <td>0.513268</td>\n",
       "      <td>-1.605843</td>\n",
       "    </tr>\n",
       "  </tbody>\n",
       "</table>\n",
       "</div>"
      ]
     },
     "execution_count": 8,
     "metadata": {},
     "output_type": "execute_result"
    }
   ],
   "execution_count": 8
  },
  {
   "metadata": {
    "ExecuteTime": {
     "end_time": "2024-07-08T21:36:17.334896Z",
     "start_time": "2024-07-08T21:36:17.330100Z"
    }
   },
   "cell_type": "code",
   "source": "X = pd.concat([X_numerical_, X_categorical], axis=1)",
   "id": "1ac0da4d1f2f19d1",
   "outputs": [],
   "execution_count": 9
  },
  {
   "metadata": {
    "ExecuteTime": {
     "end_time": "2024-07-08T21:36:17.349309Z",
     "start_time": "2024-07-08T21:36:17.338553Z"
    }
   },
   "cell_type": "code",
   "source": "X.head(n=3)",
   "id": "808d3347c76f3469",
   "outputs": [
    {
     "data": {
      "text/plain": [
       "   Lagging_Current_Reactive.Power_kVarh  Leading_Current_Reactive_Power_kVarh  \\\n",
       "0                             -0.618516                             -0.521385   \n",
       "1                             -0.525911                             -0.521385   \n",
       "2                             -0.598278                             -0.521385   \n",
       "\n",
       "   CO2(tCO2)  Lagging_Current_Power_Factor  Leading_Current_Power_Factor  \\\n",
       "0   -0.71355                     -0.389410                      0.513268   \n",
       "1   -0.71355                     -0.729772                      0.513268   \n",
       "2   -0.71355                     -0.544264                      0.513268   \n",
       "\n",
       "        NSM  Day_of_week_Friday  Day_of_week_Monday  Day_of_week_Saturday  \\\n",
       "0 -1.678015               False                True                 False   \n",
       "1 -1.641929               False                True                 False   \n",
       "2 -1.605843               False                True                 False   \n",
       "\n",
       "   Day_of_week_Sunday  Day_of_week_Thursday  Day_of_week_Tuesday  \\\n",
       "0               False                 False                False   \n",
       "1               False                 False                False   \n",
       "2               False                 False                False   \n",
       "\n",
       "   Day_of_week_Wednesday  Load_Type_Light_Load  Load_Type_Maximum_Load  \\\n",
       "0                  False                  True                   False   \n",
       "1                  False                  True                   False   \n",
       "2                  False                  True                   False   \n",
       "\n",
       "   Load_Type_Medium_Load  WeekStatus_Weekday  WeekStatus_Weekend  \n",
       "0                  False                True               False  \n",
       "1                  False                True               False  \n",
       "2                  False                True               False  "
      ],
      "text/html": [
       "<div>\n",
       "<style scoped>\n",
       "    .dataframe tbody tr th:only-of-type {\n",
       "        vertical-align: middle;\n",
       "    }\n",
       "\n",
       "    .dataframe tbody tr th {\n",
       "        vertical-align: top;\n",
       "    }\n",
       "\n",
       "    .dataframe thead th {\n",
       "        text-align: right;\n",
       "    }\n",
       "</style>\n",
       "<table border=\"1\" class=\"dataframe\">\n",
       "  <thead>\n",
       "    <tr style=\"text-align: right;\">\n",
       "      <th></th>\n",
       "      <th>Lagging_Current_Reactive.Power_kVarh</th>\n",
       "      <th>Leading_Current_Reactive_Power_kVarh</th>\n",
       "      <th>CO2(tCO2)</th>\n",
       "      <th>Lagging_Current_Power_Factor</th>\n",
       "      <th>Leading_Current_Power_Factor</th>\n",
       "      <th>NSM</th>\n",
       "      <th>Day_of_week_Friday</th>\n",
       "      <th>Day_of_week_Monday</th>\n",
       "      <th>Day_of_week_Saturday</th>\n",
       "      <th>Day_of_week_Sunday</th>\n",
       "      <th>Day_of_week_Thursday</th>\n",
       "      <th>Day_of_week_Tuesday</th>\n",
       "      <th>Day_of_week_Wednesday</th>\n",
       "      <th>Load_Type_Light_Load</th>\n",
       "      <th>Load_Type_Maximum_Load</th>\n",
       "      <th>Load_Type_Medium_Load</th>\n",
       "      <th>WeekStatus_Weekday</th>\n",
       "      <th>WeekStatus_Weekend</th>\n",
       "    </tr>\n",
       "  </thead>\n",
       "  <tbody>\n",
       "    <tr>\n",
       "      <th>0</th>\n",
       "      <td>-0.618516</td>\n",
       "      <td>-0.521385</td>\n",
       "      <td>-0.71355</td>\n",
       "      <td>-0.389410</td>\n",
       "      <td>0.513268</td>\n",
       "      <td>-1.678015</td>\n",
       "      <td>False</td>\n",
       "      <td>True</td>\n",
       "      <td>False</td>\n",
       "      <td>False</td>\n",
       "      <td>False</td>\n",
       "      <td>False</td>\n",
       "      <td>False</td>\n",
       "      <td>True</td>\n",
       "      <td>False</td>\n",
       "      <td>False</td>\n",
       "      <td>True</td>\n",
       "      <td>False</td>\n",
       "    </tr>\n",
       "    <tr>\n",
       "      <th>1</th>\n",
       "      <td>-0.525911</td>\n",
       "      <td>-0.521385</td>\n",
       "      <td>-0.71355</td>\n",
       "      <td>-0.729772</td>\n",
       "      <td>0.513268</td>\n",
       "      <td>-1.641929</td>\n",
       "      <td>False</td>\n",
       "      <td>True</td>\n",
       "      <td>False</td>\n",
       "      <td>False</td>\n",
       "      <td>False</td>\n",
       "      <td>False</td>\n",
       "      <td>False</td>\n",
       "      <td>True</td>\n",
       "      <td>False</td>\n",
       "      <td>False</td>\n",
       "      <td>True</td>\n",
       "      <td>False</td>\n",
       "    </tr>\n",
       "    <tr>\n",
       "      <th>2</th>\n",
       "      <td>-0.598278</td>\n",
       "      <td>-0.521385</td>\n",
       "      <td>-0.71355</td>\n",
       "      <td>-0.544264</td>\n",
       "      <td>0.513268</td>\n",
       "      <td>-1.605843</td>\n",
       "      <td>False</td>\n",
       "      <td>True</td>\n",
       "      <td>False</td>\n",
       "      <td>False</td>\n",
       "      <td>False</td>\n",
       "      <td>False</td>\n",
       "      <td>False</td>\n",
       "      <td>True</td>\n",
       "      <td>False</td>\n",
       "      <td>False</td>\n",
       "      <td>True</td>\n",
       "      <td>False</td>\n",
       "    </tr>\n",
       "  </tbody>\n",
       "</table>\n",
       "</div>"
      ]
     },
     "execution_count": 10,
     "metadata": {},
     "output_type": "execute_result"
    }
   ],
   "execution_count": 10
  },
  {
   "metadata": {
    "ExecuteTime": {
     "end_time": "2024-07-08T21:36:17.498139Z",
     "start_time": "2024-07-08T21:36:17.350765Z"
    }
   },
   "cell_type": "code",
   "source": [
    "from sklearn.decomposition import PCA\n",
    "pca = PCA(n_components=4).fit(X)\n",
    "pca_loadings = pca.components_"
   ],
   "id": "fd97650eceec0c65",
   "outputs": [],
   "execution_count": 11
  },
  {
   "metadata": {
    "ExecuteTime": {
     "end_time": "2024-07-08T21:36:17.510425Z",
     "start_time": "2024-07-08T21:36:17.499296Z"
    }
   },
   "cell_type": "code",
   "source": "pd.DataFrame(pca_loadings, columns=X.columns, index=['PC1', 'PC2', 'PC3', 'PC4'])",
   "id": "c0d3624a73bf3c6",
   "outputs": [
    {
     "data": {
      "text/plain": [
       "     Lagging_Current_Reactive.Power_kVarh  \\\n",
       "PC1                              0.352219   \n",
       "PC2                              0.440939   \n",
       "PC3                             -0.331068   \n",
       "PC4                             -0.031379   \n",
       "\n",
       "     Leading_Current_Reactive_Power_kVarh  CO2(tCO2)  \\\n",
       "PC1                             -0.547728   0.287281   \n",
       "PC2                              0.073559   0.534907   \n",
       "PC3                             -0.231833  -0.223644   \n",
       "PC4                             -0.225454   0.060194   \n",
       "\n",
       "     Lagging_Current_Power_Factor  Leading_Current_Power_Factor       NSM  \\\n",
       "PC1                     -0.299885                      0.550595 -0.255178   \n",
       "PC2                      0.478228                     -0.054099  0.416703   \n",
       "PC3                     -0.206567                      0.276036  0.733216   \n",
       "PC4                      0.019778                      0.138912  0.255015   \n",
       "\n",
       "     Day_of_week_Friday  Day_of_week_Monday  Day_of_week_Saturday  \\\n",
       "PC1            0.019973            0.020714             -0.038905   \n",
       "PC2            0.012596            0.012167             -0.024754   \n",
       "PC3            0.036661            0.037864             -0.068698   \n",
       "PC4           -0.109699           -0.111933              0.297536   \n",
       "\n",
       "     Day_of_week_Sunday  Day_of_week_Thursday  Day_of_week_Tuesday  \\\n",
       "PC1           -0.060544              0.024336             0.021027   \n",
       "PC2           -0.042105              0.015978             0.013998   \n",
       "PC3           -0.093719              0.030808             0.031779   \n",
       "PC4            0.258916             -0.103952            -0.107838   \n",
       "\n",
       "     Day_of_week_Wednesday  Load_Type_Light_Load  Load_Type_Maximum_Load  \\\n",
       "PC1               0.013399              0.019091                0.052324   \n",
       "PC2               0.012120             -0.253688                0.126472   \n",
       "PC3               0.025305             -0.160943               -0.018691   \n",
       "PC4              -0.123030              0.025829                0.091643   \n",
       "\n",
       "     Load_Type_Medium_Load  WeekStatus_Weekday  WeekStatus_Weekend  \n",
       "PC1              -0.071416            0.099449           -0.099449  \n",
       "PC2               0.127216            0.066859           -0.066859  \n",
       "PC3               0.179634            0.162417           -0.162417  \n",
       "PC4              -0.117472           -0.556452            0.556452  "
      ],
      "text/html": [
       "<div>\n",
       "<style scoped>\n",
       "    .dataframe tbody tr th:only-of-type {\n",
       "        vertical-align: middle;\n",
       "    }\n",
       "\n",
       "    .dataframe tbody tr th {\n",
       "        vertical-align: top;\n",
       "    }\n",
       "\n",
       "    .dataframe thead th {\n",
       "        text-align: right;\n",
       "    }\n",
       "</style>\n",
       "<table border=\"1\" class=\"dataframe\">\n",
       "  <thead>\n",
       "    <tr style=\"text-align: right;\">\n",
       "      <th></th>\n",
       "      <th>Lagging_Current_Reactive.Power_kVarh</th>\n",
       "      <th>Leading_Current_Reactive_Power_kVarh</th>\n",
       "      <th>CO2(tCO2)</th>\n",
       "      <th>Lagging_Current_Power_Factor</th>\n",
       "      <th>Leading_Current_Power_Factor</th>\n",
       "      <th>NSM</th>\n",
       "      <th>Day_of_week_Friday</th>\n",
       "      <th>Day_of_week_Monday</th>\n",
       "      <th>Day_of_week_Saturday</th>\n",
       "      <th>Day_of_week_Sunday</th>\n",
       "      <th>Day_of_week_Thursday</th>\n",
       "      <th>Day_of_week_Tuesday</th>\n",
       "      <th>Day_of_week_Wednesday</th>\n",
       "      <th>Load_Type_Light_Load</th>\n",
       "      <th>Load_Type_Maximum_Load</th>\n",
       "      <th>Load_Type_Medium_Load</th>\n",
       "      <th>WeekStatus_Weekday</th>\n",
       "      <th>WeekStatus_Weekend</th>\n",
       "    </tr>\n",
       "  </thead>\n",
       "  <tbody>\n",
       "    <tr>\n",
       "      <th>PC1</th>\n",
       "      <td>0.352219</td>\n",
       "      <td>-0.547728</td>\n",
       "      <td>0.287281</td>\n",
       "      <td>-0.299885</td>\n",
       "      <td>0.550595</td>\n",
       "      <td>-0.255178</td>\n",
       "      <td>0.019973</td>\n",
       "      <td>0.020714</td>\n",
       "      <td>-0.038905</td>\n",
       "      <td>-0.060544</td>\n",
       "      <td>0.024336</td>\n",
       "      <td>0.021027</td>\n",
       "      <td>0.013399</td>\n",
       "      <td>0.019091</td>\n",
       "      <td>0.052324</td>\n",
       "      <td>-0.071416</td>\n",
       "      <td>0.099449</td>\n",
       "      <td>-0.099449</td>\n",
       "    </tr>\n",
       "    <tr>\n",
       "      <th>PC2</th>\n",
       "      <td>0.440939</td>\n",
       "      <td>0.073559</td>\n",
       "      <td>0.534907</td>\n",
       "      <td>0.478228</td>\n",
       "      <td>-0.054099</td>\n",
       "      <td>0.416703</td>\n",
       "      <td>0.012596</td>\n",
       "      <td>0.012167</td>\n",
       "      <td>-0.024754</td>\n",
       "      <td>-0.042105</td>\n",
       "      <td>0.015978</td>\n",
       "      <td>0.013998</td>\n",
       "      <td>0.012120</td>\n",
       "      <td>-0.253688</td>\n",
       "      <td>0.126472</td>\n",
       "      <td>0.127216</td>\n",
       "      <td>0.066859</td>\n",
       "      <td>-0.066859</td>\n",
       "    </tr>\n",
       "    <tr>\n",
       "      <th>PC3</th>\n",
       "      <td>-0.331068</td>\n",
       "      <td>-0.231833</td>\n",
       "      <td>-0.223644</td>\n",
       "      <td>-0.206567</td>\n",
       "      <td>0.276036</td>\n",
       "      <td>0.733216</td>\n",
       "      <td>0.036661</td>\n",
       "      <td>0.037864</td>\n",
       "      <td>-0.068698</td>\n",
       "      <td>-0.093719</td>\n",
       "      <td>0.030808</td>\n",
       "      <td>0.031779</td>\n",
       "      <td>0.025305</td>\n",
       "      <td>-0.160943</td>\n",
       "      <td>-0.018691</td>\n",
       "      <td>0.179634</td>\n",
       "      <td>0.162417</td>\n",
       "      <td>-0.162417</td>\n",
       "    </tr>\n",
       "    <tr>\n",
       "      <th>PC4</th>\n",
       "      <td>-0.031379</td>\n",
       "      <td>-0.225454</td>\n",
       "      <td>0.060194</td>\n",
       "      <td>0.019778</td>\n",
       "      <td>0.138912</td>\n",
       "      <td>0.255015</td>\n",
       "      <td>-0.109699</td>\n",
       "      <td>-0.111933</td>\n",
       "      <td>0.297536</td>\n",
       "      <td>0.258916</td>\n",
       "      <td>-0.103952</td>\n",
       "      <td>-0.107838</td>\n",
       "      <td>-0.123030</td>\n",
       "      <td>0.025829</td>\n",
       "      <td>0.091643</td>\n",
       "      <td>-0.117472</td>\n",
       "      <td>-0.556452</td>\n",
       "      <td>0.556452</td>\n",
       "    </tr>\n",
       "  </tbody>\n",
       "</table>\n",
       "</div>"
      ]
     },
     "execution_count": 12,
     "metadata": {},
     "output_type": "execute_result"
    }
   ],
   "execution_count": 12
  },
  {
   "metadata": {
    "ExecuteTime": {
     "end_time": "2024-07-08T21:36:17.529665Z",
     "start_time": "2024-07-08T21:36:17.511213Z"
    }
   },
   "cell_type": "code",
   "source": "pca_scores = pca.transform(X)",
   "id": "4aec80841b391f37",
   "outputs": [],
   "execution_count": 13
  },
  {
   "metadata": {
    "ExecuteTime": {
     "end_time": "2024-07-08T21:36:17.535729Z",
     "start_time": "2024-07-08T21:36:17.530834Z"
    }
   },
   "cell_type": "code",
   "source": "pca_scores",
   "id": "a4070c921713cf9d",
   "outputs": [
    {
     "data": {
      "text/plain": [
       "array([[ 0.78578518, -1.74005354, -0.51645047, -0.67304896],\n",
       "       [ 0.91126356, -1.84695341, -0.45034252, -0.67348388],\n",
       "       [ 0.82093503, -1.77511064, -0.43824478, -0.65834157],\n",
       "       ...,\n",
       "       [-0.12541986, -0.24872129,  1.90018442,  0.1837133 ],\n",
       "       [-0.15775117, -0.20842439,  1.91543759,  0.19297146],\n",
       "       [ 0.72742422, -1.65111644, -0.59047632, -0.68041158]])"
      ]
     },
     "execution_count": 14,
     "metadata": {},
     "output_type": "execute_result"
    }
   ],
   "execution_count": 14
  },
  {
   "metadata": {
    "ExecuteTime": {
     "end_time": "2024-07-08T21:36:17.547197Z",
     "start_time": "2024-07-08T21:36:17.537085Z"
    }
   },
   "cell_type": "code",
   "source": [
    "explained_variance = pca.explained_variance_\n",
    "print('Varianza explicada por cada componente principal:')\n",
    "print(explained_variance)"
   ],
   "id": "efbb32989e8158ba",
   "outputs": [
    {
     "name": "stdout",
     "output_type": "stream",
     "text": [
      "Varianza explicada por cada componente principal:\n",
      "[2.92888738 2.41753284 0.59435778 0.46669834]\n"
     ]
    }
   ],
   "execution_count": 15
  },
  {
   "metadata": {
    "ExecuteTime": {
     "end_time": "2024-07-08T21:36:17.557126Z",
     "start_time": "2024-07-08T21:36:17.549031Z"
    }
   },
   "cell_type": "code",
   "source": [
    "PVE = pca.explained_variance_ratio_\n",
    "\n",
    "print('Proporción de varianza explicada (PVE) por cada componente principal:')\n",
    "print(PVE)"
   ],
   "id": "d086b963db02e9a9",
   "outputs": [
    {
     "name": "stdout",
     "output_type": "stream",
     "text": [
      "Proporción de varianza explicada (PVE) por cada componente principal:\n",
      "[0.37172345 0.30682424 0.07543367 0.05923161]\n"
     ]
    }
   ],
   "execution_count": 16
  },
  {
   "metadata": {
    "ExecuteTime": {
     "end_time": "2024-07-08T21:36:17.704482Z",
     "start_time": "2024-07-08T21:36:17.558950Z"
    }
   },
   "cell_type": "code",
   "source": [
    "plt.figure(figsize=(7,5))\n",
    "plt.plot([1,2,3,4], pca.explained_variance_ratio_, '-o')\n",
    "plt.ylabel('Proporción de Varianza Explicada')\n",
    "plt.xlabel('Componente Principal')\n",
    "plt.xlim(0.75,4.25)\n",
    "plt.ylim(0,1.05)\n",
    "plt.xticks([1,2,3,4])\n",
    "plt.show()"
   ],
   "id": "8f87d27f853e8964",
   "outputs": [
    {
     "data": {
      "text/plain": [
       "<Figure size 700x500 with 1 Axes>"
      ],
      "image/png": "[encoded data removed]"
     },
     "metadata": {},
     "output_type": "display_data"
    }
   ],
   "execution_count": 17
  },
  {
   "metadata": {
    "ExecuteTime": {
     "end_time": "2024-07-08T21:36:17.802245Z",
     "start_time": "2024-07-08T21:36:17.705651Z"
    }
   },
   "cell_type": "code",
   "source": [
    "plt.figure(figsize=(7,5))\n",
    "plt.plot([1,2,3,4], np.cumsum(pca.explained_variance_ratio_), '-s')\n",
    "plt.ylabel('Proporción Acumulada de Varianza Explicada')\n",
    "plt.xlabel('Componente Principal')\n",
    "plt.xlim(0.75,4.25)\n",
    "plt.ylim(0,1.05)\n",
    "plt.xticks([1,2,3,4])\n",
    "plt.show()"
   ],
   "id": "98e2f90384e0b5b6",
   "outputs": [
    {
     "data": {
      "text/plain": [
       "<Figure size 700x500 with 1 Axes>"
      ],
      "image/png": "[encoded data removed]"
     },
     "metadata": {},
     "output_type": "display_data"
    }
   ],
   "execution_count": 18
  },
  {
   "metadata": {
    "ExecuteTime": {
     "end_time": "2024-07-08T21:36:17.807718Z",
     "start_time": "2024-07-08T21:36:17.803452Z"
    }
   },
   "cell_type": "code",
   "source": [
    "# Visualizamos los puntajes para los primeros estados\n",
    "X_plot = pd.DataFrame(pca_scores, columns=['PC1', 'PC2', 'PC3', 'PC4'], index=X.index)\n",
    "X_plot.shape"
   ],
   "id": "5b6a4638ccee49cf",
   "outputs": [
    {
     "data": {
      "text/plain": [
       "(35040, 4)"
      ]
     },
     "execution_count": 19,
     "metadata": {},
     "output_type": "execute_result"
    }
   ],
   "execution_count": 19
  },
  {
   "metadata": {
    "ExecuteTime": {
     "end_time": "2024-07-08T21:36:17.818846Z",
     "start_time": "2024-07-08T21:36:17.808861Z"
    }
   },
   "cell_type": "code",
   "source": "X_plot.sample(n=5)",
   "id": "8e959a942ca9c0a9",
   "outputs": [
    {
     "data": {
      "text/plain": [
       "            PC1       PC2       PC3       PC4\n",
       "12081 -3.444318  0.199251 -0.326080  0.705281\n",
       "30627  1.241887 -2.230362 -0.240019 -0.677083\n",
       "28196 -3.244520 -0.005752 -0.633467  0.613141\n",
       "21546  1.622767  1.986563 -0.719323 -0.120746\n",
       "27711  1.353875  1.772733  0.060462  0.032906"
      ],
      "text/html": [
       "<div>\n",
       "<style scoped>\n",
       "    .dataframe tbody tr th:only-of-type {\n",
       "        vertical-align: middle;\n",
       "    }\n",
       "\n",
       "    .dataframe tbody tr th {\n",
       "        vertical-align: top;\n",
       "    }\n",
       "\n",
       "    .dataframe thead th {\n",
       "        text-align: right;\n",
       "    }\n",
       "</style>\n",
       "<table border=\"1\" class=\"dataframe\">\n",
       "  <thead>\n",
       "    <tr style=\"text-align: right;\">\n",
       "      <th></th>\n",
       "      <th>PC1</th>\n",
       "      <th>PC2</th>\n",
       "      <th>PC3</th>\n",
       "      <th>PC4</th>\n",
       "    </tr>\n",
       "  </thead>\n",
       "  <tbody>\n",
       "    <tr>\n",
       "      <th>12081</th>\n",
       "      <td>-3.444318</td>\n",
       "      <td>0.199251</td>\n",
       "      <td>-0.326080</td>\n",
       "      <td>0.705281</td>\n",
       "    </tr>\n",
       "    <tr>\n",
       "      <th>30627</th>\n",
       "      <td>1.241887</td>\n",
       "      <td>-2.230362</td>\n",
       "      <td>-0.240019</td>\n",
       "      <td>-0.677083</td>\n",
       "    </tr>\n",
       "    <tr>\n",
       "      <th>28196</th>\n",
       "      <td>-3.244520</td>\n",
       "      <td>-0.005752</td>\n",
       "      <td>-0.633467</td>\n",
       "      <td>0.613141</td>\n",
       "    </tr>\n",
       "    <tr>\n",
       "      <th>21546</th>\n",
       "      <td>1.622767</td>\n",
       "      <td>1.986563</td>\n",
       "      <td>-0.719323</td>\n",
       "      <td>-0.120746</td>\n",
       "    </tr>\n",
       "    <tr>\n",
       "      <th>27711</th>\n",
       "      <td>1.353875</td>\n",
       "      <td>1.772733</td>\n",
       "      <td>0.060462</td>\n",
       "      <td>0.032906</td>\n",
       "    </tr>\n",
       "  </tbody>\n",
       "</table>\n",
       "</div>"
      ]
     },
     "execution_count": 20,
     "metadata": {},
     "output_type": "execute_result"
    }
   ],
   "execution_count": 20
  },
  {
   "metadata": {
    "ExecuteTime": {
     "end_time": "2024-07-08T21:36:17.828009Z",
     "start_time": "2024-07-08T21:36:17.820221Z"
    }
   },
   "cell_type": "code",
   "source": [
    "X_rec = np.dot(pca_scores, pca_loadings)\n",
    "X_rec_ = pd.DataFrame(X_rec, index=X.index, columns=X.columns).sample(n=8)"
   ],
   "id": "f0d45afef6d3ae54",
   "outputs": [],
   "execution_count": 21
  },
  {
   "metadata": {
    "ExecuteTime": {
     "end_time": "2024-07-08T21:36:17.855267Z",
     "start_time": "2024-07-08T21:36:17.830673Z"
    }
   },
   "cell_type": "code",
   "source": "X_rec_.head(n=3)",
   "id": "ef0465fb96740fc",
   "outputs": [
    {
     "data": {
      "text/plain": [
       "       Lagging_Current_Reactive.Power_kVarh  \\\n",
       "16788                             -1.033989   \n",
       "6826                              -0.413323   \n",
       "9169                              -0.742413   \n",
       "\n",
       "       Leading_Current_Reactive_Power_kVarh  CO2(tCO2)  \\\n",
       "16788                              1.871352  -0.679957   \n",
       "6826                              -0.469482  -0.718263   \n",
       "9169                               1.945454  -0.674687   \n",
       "\n",
       "       Lagging_Current_Power_Factor  Leading_Current_Power_Factor       NSM  \\\n",
       "16788                      1.377080                     -1.916135  1.383789   \n",
       "6826                      -1.135092                      0.480353 -1.274639   \n",
       "9169                       1.042867                     -1.859182  0.301481   \n",
       "\n",
       "       Day_of_week_Friday  Day_of_week_Monday  Day_of_week_Saturday  \\\n",
       "16788           -0.124668           -0.128806              0.291378   \n",
       "6826             0.054280            0.056879             -0.155500   \n",
       "9169             0.065376            0.065402             -0.228884   \n",
       "\n",
       "       Day_of_week_Sunday  Day_of_week_Thursday  Day_of_week_Tuesday  \\\n",
       "16788            0.334189             -0.135372            -0.126873   \n",
       "6826            -0.116527              0.049639             0.052372   \n",
       "9169            -0.116791              0.048819             0.062130   \n",
       "\n",
       "       Day_of_week_Wednesday  Load_Type_Light_Load  Load_Type_Maximum_Load  \\\n",
       "16788              -0.109847             -0.225598               -0.057271   \n",
       "6826                0.058856              0.495805               -0.235761   \n",
       "9169                0.103947             -0.103521               -0.218843   \n",
       "\n",
       "       Load_Type_Medium_Load  WeekStatus_Weekday  WeekStatus_Weekend  \n",
       "16788               0.282869           -0.625567            0.625567  \n",
       "6826               -0.260045            0.272027           -0.272027  \n",
       "9169                0.322363            0.345674           -0.345674  "
      ],
      "text/html": [
       "<div>\n",
       "<style scoped>\n",
       "    .dataframe tbody tr th:only-of-type {\n",
       "        vertical-align: middle;\n",
       "    }\n",
       "\n",
       "    .dataframe tbody tr th {\n",
       "        vertical-align: top;\n",
       "    }\n",
       "\n",
       "    .dataframe thead th {\n",
       "        text-align: right;\n",
       "    }\n",
       "</style>\n",
       "<table border=\"1\" class=\"dataframe\">\n",
       "  <thead>\n",
       "    <tr style=\"text-align: right;\">\n",
       "      <th></th>\n",
       "      <th>Lagging_Current_Reactive.Power_kVarh</th>\n",
       "      <th>Leading_Current_Reactive_Power_kVarh</th>\n",
       "      <th>CO2(tCO2)</th>\n",
       "      <th>Lagging_Current_Power_Factor</th>\n",
       "      <th>Leading_Current_Power_Factor</th>\n",
       "      <th>NSM</th>\n",
       "      <th>Day_of_week_Friday</th>\n",
       "      <th>Day_of_week_Monday</th>\n",
       "      <th>Day_of_week_Saturday</th>\n",
       "      <th>Day_of_week_Sunday</th>\n",
       "      <th>Day_of_week_Thursday</th>\n",
       "      <th>Day_of_week_Tuesday</th>\n",
       "      <th>Day_of_week_Wednesday</th>\n",
       "      <th>Load_Type_Light_Load</th>\n",
       "      <th>Load_Type_Maximum_Load</th>\n",
       "      <th>Load_Type_Medium_Load</th>\n",
       "      <th>WeekStatus_Weekday</th>\n",
       "      <th>WeekStatus_Weekend</th>\n",
       "    </tr>\n",
       "  </thead>\n",
       "  <tbody>\n",
       "    <tr>\n",
       "      <th>16788</th>\n",
       "      <td>-1.033989</td>\n",
       "      <td>1.871352</td>\n",
       "      <td>-0.679957</td>\n",
       "      <td>1.377080</td>\n",
       "      <td>-1.916135</td>\n",
       "      <td>1.383789</td>\n",
       "      <td>-0.124668</td>\n",
       "      <td>-0.128806</td>\n",
       "      <td>0.291378</td>\n",
       "      <td>0.334189</td>\n",
       "      <td>-0.135372</td>\n",
       "      <td>-0.126873</td>\n",
       "      <td>-0.109847</td>\n",
       "      <td>-0.225598</td>\n",
       "      <td>-0.057271</td>\n",
       "      <td>0.282869</td>\n",
       "      <td>-0.625567</td>\n",
       "      <td>0.625567</td>\n",
       "    </tr>\n",
       "    <tr>\n",
       "      <th>6826</th>\n",
       "      <td>-0.413323</td>\n",
       "      <td>-0.469482</td>\n",
       "      <td>-0.718263</td>\n",
       "      <td>-1.135092</td>\n",
       "      <td>0.480353</td>\n",
       "      <td>-1.274639</td>\n",
       "      <td>0.054280</td>\n",
       "      <td>0.056879</td>\n",
       "      <td>-0.155500</td>\n",
       "      <td>-0.116527</td>\n",
       "      <td>0.049639</td>\n",
       "      <td>0.052372</td>\n",
       "      <td>0.058856</td>\n",
       "      <td>0.495805</td>\n",
       "      <td>-0.235761</td>\n",
       "      <td>-0.260045</td>\n",
       "      <td>0.272027</td>\n",
       "      <td>-0.272027</td>\n",
       "    </tr>\n",
       "    <tr>\n",
       "      <th>9169</th>\n",
       "      <td>-0.742413</td>\n",
       "      <td>1.945454</td>\n",
       "      <td>-0.674687</td>\n",
       "      <td>1.042867</td>\n",
       "      <td>-1.859182</td>\n",
       "      <td>0.301481</td>\n",
       "      <td>0.065376</td>\n",
       "      <td>0.065402</td>\n",
       "      <td>-0.228884</td>\n",
       "      <td>-0.116791</td>\n",
       "      <td>0.048819</td>\n",
       "      <td>0.062130</td>\n",
       "      <td>0.103947</td>\n",
       "      <td>-0.103521</td>\n",
       "      <td>-0.218843</td>\n",
       "      <td>0.322363</td>\n",
       "      <td>0.345674</td>\n",
       "      <td>-0.345674</td>\n",
       "    </tr>\n",
       "  </tbody>\n",
       "</table>\n",
       "</div>"
      ]
     },
     "execution_count": 22,
     "metadata": {},
     "output_type": "execute_result"
    }
   ],
   "execution_count": 22
  },
  {
   "metadata": {
    "ExecuteTime": {
     "end_time": "2024-07-08T21:36:17.861444Z",
     "start_time": "2024-07-08T21:36:17.857748Z"
    }
   },
   "cell_type": "code",
   "source": "X_rec_numerical_ = X_rec_[numerical_features.columns]",
   "id": "e4cde717c5288366",
   "outputs": [],
   "execution_count": 23
  },
  {
   "metadata": {
    "ExecuteTime": {
     "end_time": "2024-07-08T21:36:17.873045Z",
     "start_time": "2024-07-08T21:36:17.864287Z"
    }
   },
   "cell_type": "code",
   "source": [
    "recovered_data = scaler.inverse_transform(X_rec_numerical_)\n",
    "recovered_X = pd.DataFrame(recovered_data, columns=numerical_features.columns)"
   ],
   "id": "be45bfdd87fafc2d",
   "outputs": [],
   "execution_count": 24
  },
  {
   "metadata": {
    "ExecuteTime": {
     "end_time": "2024-07-08T21:36:17.896367Z",
     "start_time": "2024-07-08T21:36:17.875801Z"
    }
   },
   "cell_type": "code",
   "source": "recovered_X.head(n=3)",
   "id": "fbb054cda7f00ddd",
   "outputs": [
    {
     "data": {
      "text/plain": [
       "   Lagging_Current_Reactive.Power_kVarh  Leading_Current_Reactive_Power_kVarh  \\\n",
       "0                             -3.824603                             17.764531   \n",
       "1                              6.295832                              0.385345   \n",
       "2                              0.929777                             18.314694   \n",
       "\n",
       "   CO2(tCO2)  Lagging_Current_Power_Factor  Leading_Current_Power_Factor  \\\n",
       "0   0.000543                    106.633867                     26.009860   \n",
       "1  -0.000076                     59.100912                     98.997555   \n",
       "2   0.000628                    100.310204                     27.744439   \n",
       "\n",
       "            NSM  \n",
       "0  77261.948507  \n",
       "1  10960.268136  \n",
       "2  50268.998463  "
      ],
      "text/html": [
       "<div>\n",
       "<style scoped>\n",
       "    .dataframe tbody tr th:only-of-type {\n",
       "        vertical-align: middle;\n",
       "    }\n",
       "\n",
       "    .dataframe tbody tr th {\n",
       "        vertical-align: top;\n",
       "    }\n",
       "\n",
       "    .dataframe thead th {\n",
       "        text-align: right;\n",
       "    }\n",
       "</style>\n",
       "<table border=\"1\" class=\"dataframe\">\n",
       "  <thead>\n",
       "    <tr style=\"text-align: right;\">\n",
       "      <th></th>\n",
       "      <th>Lagging_Current_Reactive.Power_kVarh</th>\n",
       "      <th>Leading_Current_Reactive_Power_kVarh</th>\n",
       "      <th>CO2(tCO2)</th>\n",
       "      <th>Lagging_Current_Power_Factor</th>\n",
       "      <th>Leading_Current_Power_Factor</th>\n",
       "      <th>NSM</th>\n",
       "    </tr>\n",
       "  </thead>\n",
       "  <tbody>\n",
       "    <tr>\n",
       "      <th>0</th>\n",
       "      <td>-3.824603</td>\n",
       "      <td>17.764531</td>\n",
       "      <td>0.000543</td>\n",
       "      <td>106.633867</td>\n",
       "      <td>26.009860</td>\n",
       "      <td>77261.948507</td>\n",
       "    </tr>\n",
       "    <tr>\n",
       "      <th>1</th>\n",
       "      <td>6.295832</td>\n",
       "      <td>0.385345</td>\n",
       "      <td>-0.000076</td>\n",
       "      <td>59.100912</td>\n",
       "      <td>98.997555</td>\n",
       "      <td>10960.268136</td>\n",
       "    </tr>\n",
       "    <tr>\n",
       "      <th>2</th>\n",
       "      <td>0.929777</td>\n",
       "      <td>18.314694</td>\n",
       "      <td>0.000628</td>\n",
       "      <td>100.310204</td>\n",
       "      <td>27.744439</td>\n",
       "      <td>50268.998463</td>\n",
       "    </tr>\n",
       "  </tbody>\n",
       "</table>\n",
       "</div>"
      ]
     },
     "execution_count": 25,
     "metadata": {},
     "output_type": "execute_result"
    }
   ],
   "execution_count": 25
  }
 ],
 "metadata": {
  "kernelspec": {
   "display_name": "Python 3",
   "language": "python",
   "name": "python3"
  },
  "language_info": {
   "codemirror_mode": {
    "name": "ipython",
    "version": 2
   },
   "file_extension": ".py",
   "mimetype": "text/x-python",
   "name": "python",
   "nbconvert_exporter": "python",
   "pygments_lexer": "ipython2",
   "version": "2.7.6"
  }
 },
 "nbformat": 4,
 "nbformat_minor": 5
}
